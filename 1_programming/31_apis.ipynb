{
 "cells": [
  {
   "attachments": {},
   "cell_type": "markdown",
   "metadata": {},
   "source": [
    "# APIs"
   ]
  },
  {
   "attachments": {},
   "cell_type": "markdown",
   "metadata": {},
   "source": [
    "API stand for Application Programming Interface. APIs are a way for computers to talk to each other. They are a set of rules that allow one piece of software application to talk to another. APIs are used to share data between applications."
   ]
  },
  {
   "attachments": {},
   "cell_type": "markdown",
   "metadata": {},
   "source": [
    "Many companies provide APIs to allow developers to access their services. For example, Twitter provides an API that allows programmers to access their service and get tweets and other information. Google provides APIs for many of their services, including Google Maps, Google Drive, and Google Calendar."
   ]
  },
  {
   "attachments": {},
   "cell_type": "markdown",
   "metadata": {},
   "source": [
    "APIs are used to connect to other applications. For example, you can use the Twitter API to read and write tweets from your own application. You can use the Google Maps API to get directions from one place to another. You can use the Google Translate API to translate text from one language to another."
   ]
  },
  {
   "attachments": {},
   "cell_type": "markdown",
   "metadata": {},
   "source": [
    "Most APIs require you to register for an API key. This is a unique identifier that allows the API to track your usage. You can get an API key by registering for an account with the service provider. For example, if you want to use the Twitter API, you need to register for a Twitter account and then request an API key."
   ]
  },
  {
   "attachments": {},
   "cell_type": "markdown",
   "metadata": {},
   "source": [
    "Most APIs are free to use, but some require you to pay a fee. For example, the Google Maps API is free for up to 25,000 requests per day, but you have to pay if you want to make more than that. The Google Translate API is free for up to 500,000 characters per month, but you have to pay if you want to translate more than that."
   ]
  },
  {
   "attachments": {},
   "cell_type": "markdown",
   "metadata": {},
   "source": [
    "Most APIs return data in the following formats: JSON, XML, or CSV. JSON is the most common format, but some APIs return data in XML or CSV format. You can use the requests library to make HTTP requests to APIs and get data in JSON format."
   ]
  },
  {
   "attachments": {},
   "cell_type": "markdown",
   "metadata": {},
   "source": [
    "\n",
    "## JSON"
   ]
  },
  {
   "attachments": {},
   "cell_type": "markdown",
   "metadata": {},
   "source": [
    "JSON stands for JavaScript Object Notation. It is a lightweight data-interchange format. It is easy for humans to read and write. It is easy for machines to parse and generate. It is based on a subset of the JavaScript Programming Language, Standard ECMA-262 3rd Edition - December 1999. JSON is a text format that is completely language independent but uses conventions that are familiar to programmers of the C-family of languages, including C, C++, C#, Java, JavaScript, Perl, Python, and many others. These properties make JSON an ideal data-interchange language.\n",
    "\n",
    "JSON is built on two structures:\n",
    "\n",
    "- A collection of name/value pairs. In various languages, this is realized as an object, record, struct, dictionary, hash table, keyed list, or associative array.\n",
    "\n",
    "- An ordered list of values. In most languages, this is realized as an array, vector, list, or sequence.\n",
    "\n",
    "These are universal data structures. Virtually all modern programming languages support them in one form or another. It makes sense that a data format that is interchangeable with programming languages also be based on these structures.\n",
    "\n",
    "In JSON, they take on these forms:\n",
    "\n",
    "- An object is an unordered set of name/value pairs. An object begins with { (left brace) and ends with } (right brace). Each name is followed by : (colon) and the name/value pairs are separated by , (comma).\n",
    "\n",
    "- An array is an ordered collection of values. An array begins with [ (left bracket) and ends with ] (right bracket). Values are separated by , (comma).\n",
    "\n",
    "- A value can be a string in double quotes, or a number, or true or false or null, or an object or an array. These structures can be nested.\n",
    "\n",
    "- A string is a sequence of zero or more Unicode characters, wrapped in double quotes, using backslash escapes. A character is represented as a single character string. A string is very much like a C or Java string.\n",
    "\n",
    "- A number is very much like a C or Java number, except that the octal and hexadecimal formats are not used.\n",
    "\n",
    "- White space can be inserted between any pair of tokens. Excepting a few encoding details, that completely describes the language.\n",
    "\n",
    "Here is a small example:\n",
    "\n",
    "```json\n",
    "{\n",
    "    \"firstName\": \"John\",\n",
    "    \"lastName\": \"Smith\",\n",
    "    \"age\": 25,\n",
    "    \"address\": {\n",
    "        \"streetAddress\": \"21 2nd Street\",\n",
    "        \"city\": \"New York\",\n",
    "        \"state\": \"NY\",\n",
    "        \"postalCode\": \"10021\"\n",
    "    },\n",
    "    \"phoneNumber\": [\n",
    "        {\n",
    "            \"type\": \"home\",\n",
    "            \"number\": \"212 555-1234\"\n",
    "        },\n",
    "        {\n",
    "            \"type\": \"fax\",\n",
    "            \"number\": \"646 555-4567\"\n",
    "        }\n",
    "    ]\n",
    "}\n",
    "```"
   ]
  },
  {
   "attachments": {},
   "cell_type": "markdown",
   "metadata": {},
   "source": [
    "An example of a public API that returns data in JSON format is the [Open Notify API](http://open-notify.org/Open-Notify-API/ISS-Location-Now/). This API returns the current location of the International Space Station in JSON format.\n",
    "\n",
    "```json\n",
    "{\n",
    "  \"iss_position\": {\n",
    "    \"latitude\": \"-50.7353\",\n",
    "    \"longitude\": \"-179.9974\"\n",
    "  },\n",
    "  \"message\": \"success\",\n",
    "  \"timestamp\": 1619455654\n",
    "}\n",
    "```"
   ]
  },
  {
   "cell_type": "code",
   "execution_count": 1,
   "metadata": {},
   "outputs": [
    {
     "name": "stdout",
     "output_type": "stream",
     "text": [
      "Status code: 200\n",
      "People in space: 10\n",
      "Sergey Prokopyev\n",
      "Dmitry Petelin\n",
      "Frank Rubio\n",
      "Stephen Bowen\n",
      "Warren Hoburg\n",
      "Sultan Alneyadi\n",
      "Andrey Fedyaev\n",
      "Jing Haiping\n",
      "Gui Haichow\n",
      "Zhu Yangzhu\n",
      "{\"number\": 10, \"people\": [{\"name\": \"Sergey Prokopyev\", \"craft\": \"ISS\"}, {\"name\": \"Dmitry Petelin\", \"craft\": \"ISS\"}, {\"name\": \"Frank Rubio\", \"craft\": \"ISS\"}, {\"name\": \"Stephen Bowen\", \"craft\": \"ISS\"}, {\"name\": \"Warren Hoburg\", \"craft\": \"ISS\"}, {\"name\": \"Sultan Alneyadi\", \"craft\": \"ISS\"}, {\"name\": \"Andrey Fedyaev\", \"craft\": \"ISS\"}, {\"name\": \"Jing Haiping\", \"craft\": \"Tiangong\"}, {\"name\": \"Gui Haichow\", \"craft\": \"Tiangong\"}, {\"name\": \"Zhu Yangzhu\", \"craft\": \"Tiangong\"}], \"message\": \"success\"}\n",
      "{'number': 10, 'people': [{'name': 'Sergey Prokopyev', 'craft': 'ISS'}, {'name': 'Dmitry Petelin', 'craft': 'ISS'}, {'name': 'Frank Rubio', 'craft': 'ISS'}, {'name': 'Stephen Bowen', 'craft': 'ISS'}, {'name': 'Warren Hoburg', 'craft': 'ISS'}, {'name': 'Sultan Alneyadi', 'craft': 'ISS'}, {'name': 'Andrey Fedyaev', 'craft': 'ISS'}, {'name': 'Jing Haiping', 'craft': 'Tiangong'}, {'name': 'Gui Haichow', 'craft': 'Tiangong'}, {'name': 'Zhu Yangzhu', 'craft': 'Tiangong'}], 'message': 'success'}\n",
      "[{'name': 'Sergey Prokopyev', 'craft': 'ISS'}, {'name': 'Dmitry Petelin', 'craft': 'ISS'}, {'name': 'Frank Rubio', 'craft': 'ISS'}, {'name': 'Stephen Bowen', 'craft': 'ISS'}, {'name': 'Warren Hoburg', 'craft': 'ISS'}, {'name': 'Sultan Alneyadi', 'craft': 'ISS'}, {'name': 'Andrey Fedyaev', 'craft': 'ISS'}, {'name': 'Jing Haiping', 'craft': 'Tiangong'}, {'name': 'Gui Haichow', 'craft': 'Tiangong'}, {'name': 'Zhu Yangzhu', 'craft': 'Tiangong'}]\n",
      "{'name': 'Sergey Prokopyev', 'craft': 'ISS'}\n",
      "Sergey Prokopyev\n"
     ]
    }
   ],
   "source": [
    "'''Example code that makes an API call to Open Notify API'''\n",
    "\n",
    "import requests\n",
    "\n",
    "# Make an API call and store the response.\n",
    "\n",
    "url = 'http://api.open-notify.org/astros.json'\n",
    "\n",
    "response = requests.get(url)\n",
    "\n",
    "# Print the status code of the response.\n",
    "\n",
    "print(f\"Status code: {response.status_code}\")\n",
    "\n",
    "# Store API response in a variable.\n",
    "\n",
    "response_dict = response.json()\n",
    "\n",
    "# Print the number of people currently in space.\n",
    "\n",
    "print(f\"People in space: {response_dict['number']}\")\n",
    "\n",
    "# Print the names of people currently in space.\n",
    "\n",
    "for person in response_dict['people']:\n",
    "\n",
    "    print(person['name'])\n",
    "\n",
    "# Print the raw response.\n",
    "\n",
    "print(response.text)\n",
    "\n",
    "# Print the raw response as a list.\n",
    "\n",
    "print(response.json())\n",
    "\n",
    "# Print the raw response as a dictionary.\n",
    "\n",
    "print(response.json()['people'])\n",
    "\n",
    "# Print the raw response as a dictionary.\n",
    "\n",
    "print(response.json()['people'][0])\n",
    "\n",
    "# Print the raw response as a dictionary.\n",
    "\n",
    "print(response.json()['people'][0]['name'])"
   ]
  },
  {
   "attachments": {},
   "cell_type": "markdown",
   "metadata": {},
   "source": [
    "Some popular APIs that return data in JSON format are:\n",
    "\n",
    "- [Open Notify API](http://open-notify.org/Open-Notify-API/ISS-Location-Now/)\n",
    "\n",
    "- [Open Weather Map API](https://openweathermap.org/current)\n",
    "\n",
    "- [Google Maps API](https://developers.google.com/maps/documentation/geocoding/start)\n",
    "\n",
    "- [Twitter API](https://developer.twitter.com/en/docs/twitter-api/v1/data-dictionary/object-model/tweet)\n",
    "\n",
    "- [GitHub API](https://docs.github.com/en/rest/reference/repos#get-a-repository)\n",
    "\n",
    "- [Reddit API](https://www.reddit.com/dev/api/)\n",
    "\n",
    "- [Spotify API](https://developer.spotify.com/documentation/web-api/reference/)\n",
    "\n",
    "- [YouTube API](https://developers.google.com/youtube/v3/docs)\n",
    "\n",
    "- [Facebook API](https://developers.facebook.com/docs/graph-api/reference/)\n",
    "\n",
    "- [Instagram API](https://developers.facebook.com/docs/instagram-api/)\n"
   ]
  },
  {
   "cell_type": "markdown",
   "metadata": {},
   "source": [
    "## XML"
   ]
  },
  {
   "attachments": {},
   "cell_type": "markdown",
   "metadata": {},
   "source": [
    "XML stands for Extensible Markup Language. It is a markup language that defines a set of rules for encoding documents in a format that is both human-readable and machine-readable. The design goals of XML emphasize simplicity, generality, and usability across the Internet. It is a textual data format with strong support via Unicode for different human languages. Although the design of XML focuses on documents, the language is widely used for the representation of arbitrary data structures such as those used in web services.\n",
    "\n",
    "Several schema systems exist to aid in the definition of XML-based languages, while programmers have developed many application programming interfaces (APIs) to aid the processing of XML data.\n",
    "\n",
    "XML data is made up of storage units called entities, which contain either parsed or unparsed data. Parsed data is made up of characters, some of which form character data, and some of which form markup. Markup encodes a description of the document's storage layout and logical structure. XML provides a mechanism to impose constraints on the storage layout and logical structure.\n",
    "\n",
    "An example of XML data is shown below:\n",
    "\n",
    "```xml\n",
    "<?xml version=\"1.0\" encoding=\"UTF-8\"?>\n",
    "\n",
    "<breakfast_menu>\n",
    "    <food>\n",
    "        <name>Belgian Waffles</name>\n",
    "        <price>$5.95</price>\n",
    "        <description>Two of our famous Belgian Waffles with plenty of real maple syrup</description>\n",
    "        <calories>650</calories>\n",
    "    </food>\n",
    "    <food>\n",
    "        <name>Strawberry Belgian Waffles</name>\n",
    "        <price>$7.95</price>\n",
    "        <description>Light Belgian waffles covered with strawberries and whipped cream</description>\n",
    "        <calories>900</calories>\n",
    "    </food>\n",
    "    <food>\n",
    "        <name>Berry-Berry Belgian Waffles</name>\n",
    "        <price>$8.95</price>\n",
    "        <description>Light Belgian waffles covered with an assortment of fresh berries and whipped cream</description>\n",
    "        <calories>900</calories>\n",
    "    </food>\n",
    "    <food>\n",
    "        <name>French Toast</name>\n",
    "        <price>$4.50</price>\n",
    "        <description>Thick slices made from our homemade sourdough bread</description>\n",
    "        <calories>600</calories>\n",
    "    </food>\n",
    "    <food>\n",
    "        <name>Homestyle Breakfast</name>\n",
    "        <price>$6.95</price>\n",
    "        <description>Two eggs, bacon or sausage, toast, and our ever-popular hash browns</description>\n",
    "        <calories>950</calories>\n",
    "    </food>\n",
    "\n",
    "</breakfast_menu>\n",
    "```"
   ]
  },
  {
   "cell_type": "code",
   "execution_count": 3,
   "metadata": {},
   "outputs": [
    {
     "name": "stdout",
     "output_type": "stream",
     "text": [
      "\n"
     ]
    }
   ],
   "source": [
    "'''Example of an API that returns XML '''\n",
    "\n",
    "import requests\n",
    "\n",
    "url = 'http://api.open-notify.org/astros.xml'\n",
    "\n",
    "response = requests.get(url)\n",
    "\n",
    "print(response.text)\n"
   ]
  },
  {
   "cell_type": "code",
   "execution_count": null,
   "metadata": {},
   "outputs": [],
   "source": []
  }
 ],
 "metadata": {
  "kernelspec": {
   "display_name": "Python 3",
   "language": "python",
   "name": "python3"
  },
  "language_info": {
   "codemirror_mode": {
    "name": "ipython",
    "version": 3
   },
   "file_extension": ".py",
   "mimetype": "text/x-python",
   "name": "python",
   "nbconvert_exporter": "python",
   "pygments_lexer": "ipython3",
   "version": "3.9.12"
  },
  "orig_nbformat": 4
 },
 "nbformat": 4,
 "nbformat_minor": 2
}
