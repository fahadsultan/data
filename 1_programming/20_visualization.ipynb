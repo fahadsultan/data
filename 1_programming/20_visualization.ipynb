{
 "cells": [
  {
   "attachments": {},
   "cell_type": "markdown",
   "metadata": {},
   "source": [
    "# Visualizing Data"
   ]
  },
  {
   "attachments": {},
   "cell_type": "markdown",
   "metadata": {},
   "source": [
    "<!-- Visualizing data is a key part of data science.  It is not only a way to communicate your findings to others but, arguably more importantly, it is a way to understand your data, models and algorithms better. \n",
    "\n",
    "In this section, we will learn how to use the libraries `matplotlib` and `seaborn` to create visualizations.\n",
    "\n",
    "`matplotlib` is the primary plotting library in Python we are going to focus.  It is a very powerful library that can be used to create a wide variety of plots and graphs.  It is also very customizable.  However, despite its power, is can often be not very user-friendly.  It is very low-level and requires a lot of code to create even simple plots.  Fortunately, there are other libraries that are built on top of `matplotlib` that make it easier to create plots.  `seaborn` is a library that is built on top of `matplotlib`.  It is easier to use and creates more visually appealing plots.  On the other hand, it is also more specialized than `matplotlib` and can only be used to create certain types of plots.\n",
    "\n",
    "We are going to split our conversation about visualization into two parts: \n",
    "\n",
    "1. Uni-variate visualization: visualizing a single variable.\n",
    "\n",
    "2. Multi-variate visualization: visualizing multiple variables\n",
    " -->\n"
   ]
  }
 ],
 "metadata": {
  "language_info": {
   "name": "python"
  },
  "orig_nbformat": 4
 },
 "nbformat": 4,
 "nbformat_minor": 2
}
