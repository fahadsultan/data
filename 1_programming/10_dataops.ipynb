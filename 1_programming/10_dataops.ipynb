{
 "cells": [
  {
   "attachments": {},
   "cell_type": "markdown",
   "metadata": {},
   "source": [
    "# Vectorized Operations on Data"
   ]
  },
  {
   "attachments": {},
   "cell_type": "markdown",
   "metadata": {},
   "source": [
    "Computer Science is all about getting computers to perform tasks for us efficiently, reliably and correctly.\n",
    "\n",
    "When we talk about efficiency, we are talking both space (memory) and time (speed). \n",
    "\n",
    "Given we are living through the data deluge of the 21st century, when working with data, the issues of time and space are particularly relevant.\n",
    "\n",
    "Let's talk about speed first. "
   ]
  },
  {
   "attachments": {},
   "cell_type": "markdown",
   "metadata": {},
   "source": [
    "**Time Complexity**"
   ]
  },
  {
   "attachments": {},
   "cell_type": "markdown",
   "metadata": {},
   "source": [
    "Computer scientists are a little paranoid when it comes to speed. We always assume the worst! \n",
    "\n",
    "Wait, how do we even measure speed? \n",
    "\n",
    "And what are we even measuring the speed of? "
   ]
  },
  {
   "attachments": {},
   "cell_type": "markdown",
   "metadata": {},
   "source": [
    "\n",
    "Should we be measuring the amount of time it takes for our code to run? \n",
    "\n",
    "We know computers are much faster today then they were only a few years ago and my Dad's computer today is much slower than mine. \n",
    "\n",
    "```{figure} ../assets/processors.png\n",
    "---\n",
    "width: 60%\n",
    "align: center\n",
    "---\n",
    "Improvement in Processors over the years\n",
    "``` \n",
    "\n",
    "So if we are measuring the speed of a computer program, whose computer should we measure the speed on? \n",
    "\n",
    "Should we measure speed on an \"average computer\" available to buy in the market today? Identifying such an average computer sounds like a lot of work! \n",
    "\n",
    "What do we do when newer faster computers come out in the future? \n",
    "\n",
    "We also know some programming languages are faster than others. \n",
    "\n",
    "It sounds like what we need is an abstract theoretical framework for measuring speed that is independent of any particular hardware specifications and any programming language. \n",
    "\n",
    "Thankfully, this is a solved problem. \n",
    "\n",
    "Computer Scientists long ago decided to measure speed of an algorithm, as opposed to any particular program in any programming language. An Algorithm if you recall is simply a sequence of instructions that maps inputs to outputs. \n",
    "\n",
    "Five basic instructions of an algorithm: \n",
    "\n",
    "1. Input\n",
    "2. Output\n",
    "3. Math \n",
    "4. Branching\n",
    "5. Repetition\n",
    "\n",
    "Guess which of the five above is most relevant to measuring speed of an algorithm? \n",
    "\n",
    "It is number 5: Repetitions! Also known as LOOPS! \n",
    "\n",
    "That is, in computer science, we measure the speed of an algorithm in terms of iterations of a loop. \n",
    "\n",
    "If an algorithm does not have any loops in it, it is said to be a **constant time algorithm**, even if that has a million input/output/math/branching instructions. Algorithms are classified using the big **Big O-Notation**. A constant time algorithm in O(1). \n",
    "\n",
    "Your average algorithm has atleast one loop that iterates over some particular data structure. So what label do we give to an algorithm with one loop that follows the basic template: \n"
   ]
  },
  {
   "cell_type": "code",
   "execution_count": 5,
   "metadata": {},
   "outputs": [
    {
     "name": "stdout",
     "output_type": "stream",
     "text": [
      "0 [5, 1, 4, 1, 5, 9, 2, 6, 5]\n",
      "1 [5, 3, 4, 1, 5, 9, 2, 6, 5]\n",
      "2 [5, 3, 6, 1, 5, 9, 2, 6, 5]\n",
      "3 [5, 3, 6, 3, 5, 9, 2, 6, 5]\n",
      "4 [5, 3, 6, 3, 7, 9, 2, 6, 5]\n",
      "5 [5, 3, 6, 3, 7, 11, 2, 6, 5]\n",
      "6 [5, 3, 6, 3, 7, 11, 4, 6, 5]\n",
      "7 [5, 3, 6, 3, 7, 11, 4, 8, 5]\n",
      "8 [5, 3, 6, 3, 7, 11, 4, 8, 7]\n"
     ]
    }
   ],
   "source": [
    "sequence = [3, 1, 4, 1, 5, 9, 2, 6, 5]\n",
    "i = 0 \n",
    "while i < len(sequence):\n",
    "    sequence[i] = sequence[i] + 2\n",
    "    print(i, sequence)\n",
    "    i = i + 1"
   ]
  },
  {
   "cell_type": "markdown",
   "metadata": {},
   "source": [
    "<!-- \n",
    "<center>\n",
    "<img src=\"../assets/serial.png\" alt=\"serial\" class=\"bg-primary\" width=\"50%\"> \n",
    "</center> -->\n",
    "\n",
    "```{figure} ../assets/serial.png\n",
    "---\n",
    "width: 60%\n",
    "align: center\n",
    "---\n",
    "Serial execution of loops: each iteration must wait for the previous one to finish.\n",
    "\n",
    "``` "
   ]
  },
  {
   "attachments": {},
   "cell_type": "markdown",
   "metadata": {},
   "source": [
    "Such algorithms are given the label linear time or, in Big-O notation, O(n).\n",
    "\n",
    "The letter n here is the size of the data structure i.e. `len(arr)`. Length of a data structure also happens to be the number of iterations of the loop.\n",
    "\n",
    "In summary, we measure the speed of an algorithm in relation to:\n",
    "\n",
    "* size of data\n",
    "\n",
    "* number of iterations in all loops in the algorithm\n",
    "\n",
    "<!-- <center><img src=\"../assets/serial2.png\" alt=\"serial2\" class=\"bg-primary\" width=\"50%\"></center> -->\n",
    "\n",
    "\n",
    "```{figure} ../assets/serial2.png\n",
    "---\n",
    "width: 60%\n",
    "align: center\n",
    "---\n",
    "If an iteration takes time _t_, then the total time taken by the algorithm is _n*t_ where _n_ is length of data\n",
    "``` \n",
    "\n",
    "This is a good theoretical framework because it measures how the algorithm’s speed independent of hardware considerations.\n",
    "\n",
    "**Space Complexity**\n",
    "\n",
    "I don’t have a lot to say on the issue of space or memory consumption but it is critical.\n",
    "\n",
    "Improving speed of an algorithm often comes at the cost of more memory consumption. That is, improving speed of an algorithm often necessitates creation or use of data structures that allow faster data retrieval and processing times. In that sense, speed and memory have an inherent tension in Computer Science. In this course, we are going to use such data structures that are going to result in very fast code. But the price we have to pay as a result is that we can only work with data sets that can fit within our memory. For most people it is going to be on the order of 8-16 GB.\n",
    "\n",
    "Datasets of today are often much larger than this and require alternative paradigms of computer programming such as Distributed Computing, Parallel Programming, Concurrent Programming etc. "
   ]
  },
  {
   "attachments": {},
   "cell_type": "markdown",
   "metadata": {},
   "source": [
    "**Vectorization**"
   ]
  },
  {
   "attachments": {},
   "cell_type": "markdown",
   "metadata": {},
   "source": [
    "Vectorization is the process of applying operations to entire arrays at once, rather than their individual elements sequentially. Vectorization is also called Array Programming. It is usually much faster than using loops.\n",
    "\n",
    "In this course, we will be minimizing the use of loops. \n"
   ]
  },
  {
   "attachments": {},
   "cell_type": "markdown",
   "metadata": {},
   "source": [
    "\n",
    "| | | \n",
    "|:---:|:---:|\n",
    "|<img src=\"../assets/serial2.png\" alt=\"fishy\" class=\"bg-primary\" width=\"70%\"> |<img src=\"../assets/vectorized.png\" alt=\"fishy\" class=\"bg-primary\" width=\"70%\"> | \n",
    "| <img width=\"30%\" class=\"bg-primary\" src=\"https://img.buzzfeed.com/buzzfeed-static/static/2016-09/19/21/enhanced/buzzfeed-prod-fastlane01/anigif_original-grid-image-14646-1474334269-6.gif?crop=408:270;38,0\"> | <img class=\"bg-primary\" width=\"100%\" src=\"https://odditymall.com/includes/content/upload/prepworks-vegetable-chopping-box-dices-veggies-in-seconds-2008.gif\"> |\n",
    "| 1. Serial / Sequential Operations | 2. Vectorized Operations | "
   ]
  },
  {
   "attachments": {},
   "cell_type": "markdown",
   "metadata": {},
   "source": [
    "\n",
    "\n",
    "Vectorization can only be applied in situations when operations at individual elements are independent of each other. For example, if we want to add two arrays, we can do so by adding each element of the first array to the corresponding element of the second array. This is a vectorized operation. \n",
    "\n",
    "<!-- <img src=\"../assets/vectorized_sum.png\" alt=\"vectorized2\" class=\"bg-primary\" width=\"20%\">  -->\n",
    "\n",
    "```{figure} ../assets/vectorized_sum.png\n",
    "---\n",
    "width: 30%\n",
    "align: center\n",
    "---\n",
    "Adding two arrays\n",
    "``` \n",
    "\n",
    "\n",
    "However, for problems such as the Fibonacci sequence, where the value of an element depends on the values of the previous two elements, we cannot vectorize the operation. Similarly, finding minimum or maximum of an array cannot be vectorized."
   ]
  },
  {
   "attachments": {},
   "cell_type": "markdown",
   "metadata": {},
   "source": [
    "```{figure} ../assets/vectorized2.png\n",
    "---\n",
    "width: 20%\n",
    "align: center\n",
    "---\n",
    "Vectorized operations, more generally, can be application of any function _f_ to each element of an array.\n",
    "``` "
   ]
  },
  {
   "attachments": {},
   "cell_type": "markdown",
   "metadata": {},
   "source": [
    "\n",
    "<!-- \n",
    "<img src=\"../assets/vectorized3.png\" alt=\"vectorized3\" class=\"bg-primary\" width=\"20%\">  -->\n",
    "\n",
    "```{figure} ../assets/simd2.png\n",
    "---\n",
    "width: 50%\n",
    "align: center\n",
    "---\n",
    "Vectorized operations are also known as SIMD (Single Instruction Multiple Data) operations in the context of computer architecture. In contrast, scalar operations are known as SISD (Single Instruction Single Data) operations.\n",
    "``` \n"
   ]
  },
  {
   "attachments": {},
   "cell_type": "markdown",
   "metadata": {},
   "source": [
    "\n",
    "<!-- <img src=\"../assets/simd.png\" alt=\"vectorized3\" class=\"bg-primary\" width=\"20%\">  -->\n",
    "\n",
    "Filtering certain entries in a vectorized array is also very easy using boolean indexing or boolean maps of the same length. Elements corresponding to `True` values are kept, while elements corresponding to `False` values are discarded.\n",
    "\n",
    "\n",
    "```{figure} ../assets/filter.png\n",
    "---\n",
    "width: 50%\n",
    "align: center\n",
    "---\n",
    "Filtering a vectorized array using a boolean map\n",
    "``` \n",
    "\n",
    "<!-- <img src=\"../assets/filter.png\" alt=\"filter\" class=\"bg-primary\" width=\"20%\">  -->\n"
   ]
  },
  {
   "attachments": {},
   "cell_type": "markdown",
   "metadata": {},
   "source": [
    "`pandas` and pretty much all modern data science and AI libraries heavily rely on Vectorized operations to process and operate on large datasets. "
   ]
  },
  {
   "cell_type": "markdown",
   "metadata": {},
   "source": []
  }
 ],
 "metadata": {
  "celltoolbar": "Slideshow",
  "kernelspec": {
   "display_name": "Python 3 (ipykernel)",
   "language": "python",
   "name": "python3"
  },
  "language_info": {
   "codemirror_mode": {
    "name": "ipython",
    "version": 3
   },
   "file_extension": ".py",
   "mimetype": "text/x-python",
   "name": "python",
   "nbconvert_exporter": "python",
   "pygments_lexer": "ipython3",
   "version": "3.9.12"
  }
 },
 "nbformat": 4,
 "nbformat_minor": 2
}
