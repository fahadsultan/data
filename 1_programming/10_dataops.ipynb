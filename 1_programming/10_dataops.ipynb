{
 "cells": [
  {
   "attachments": {},
   "cell_type": "markdown",
   "metadata": {},
   "source": [
    "# Vectorized Operations on Data"
   ]
  },
  {
   "attachments": {},
   "cell_type": "markdown",
   "metadata": {},
   "source": [
    "<!-- Computer Science is all about getting computers to perform tasks for us efficiently, reliably and correctly.\n",
    "\n",
    "When we talk about efficiency, we are talking both space and time. \n",
    "\n",
    "Given we are living through the data deluge of the 21st century, when working with data, the issues of time (speed) and space (memory) are particularly relevant.\n",
    "\n",
    "Let's talk about speed first.  -->"
   ]
  },
  {
   "attachments": {},
   "cell_type": "markdown",
   "metadata": {},
   "source": [
    "<!-- ## Time Complexity -->"
   ]
  },
  {
   "attachments": {},
   "cell_type": "markdown",
   "metadata": {},
   "source": [
    "<!-- \n",
    "\n",
    "Computer Scientists are a little paranoid, when it comes to speed. They/We always assume the worst! \n",
    "\n",
    "Wait, how do we even measure speed? \n",
    "\n",
    "And what are we even measuring the speed of? \n",
    "\n",
    "Should we be measuring the amount of time it takes for our code to run? \n",
    "\n",
    "We know computers are much faster today then they were only a few years ago and my Dad's computer today is much slower than mine. \n",
    "\n",
    "So if we are measuring the speed of a computer program, whose computer should we measure the speed on? \n",
    "\n",
    "Should we measure speed on an \"average computer\" available to buy in the market today? Identifying such an average computer sounds like a lot of work! \n",
    "\n",
    "What do we do when newer faster computers come out in the future? \n",
    "\n",
    "We also know some programming languages are faster than others. \n",
    "\n",
    "It sounds like what we need is an abstract theoretical framework for measuring speed that is independent of any particular hardware specifications and any programming language. \n",
    "\n",
    "Thankfully, this is a solved problem. \n",
    "\n",
    "Computer Scientists long ago decided to measure speed of an algorithm, as opposed to any particular program in any programming language. An Algorithm if you recall is simply a sequence of instructions that maps inputs to outputs. \n",
    "\n",
    "Five basic instructions of an algorithm: \n",
    "\n",
    "1. Input\n",
    "2. Output\n",
    "3. Math \n",
    "4. Branching\n",
    "5. Repetition\n",
    "\n",
    "Guess which of the five above is most relevant to measuring speed of an algorithm? \n",
    "\n",
    "It is number 5: Repetitions! AKA LOOPS! \n",
    "\n",
    "That is, in computer science, we measure the speed of an algorithm in terms of iterations of a loop. \n",
    "\n",
    "If an algorithm does not have any loops in it, it is said to be a **constant time algorithm**, even if that has a million input/output/math/branching instructions. A constant time label given to an algorithm is akin to 3-michelin star rating given to a restaurant. Just like you can't do better than 3-michelin stars in the Michelin star rating system, you can't do better than constant-time algorithms. They are the crème de la crème of algorithms. \n",
    "\n",
    "Algorithms however don't follow the Michelin star ratings. The Michelin star rating equivalent in the world of algorithms is called the **Big O-Notation**. A constant time algorithm in Big $O(1)$. \n",
    "\n",
    "Your average algorithm has atleast one loop that iterates over some particular data structure. So what label do we give to an algorithm with one loop that follows the basic template: \n",
    "\n",
    "```\n",
    "arr = [1, 2, 3, 4, 5]\n",
    "n_even = 0\n",
    "i = 0 \n",
    "while i < len(arr):\n",
    "    if arr[i] % 2 == 0:\n",
    "        n_even = n_even + 1\n",
    "    i = i + 1\n",
    "print(n_even)\n",
    "```\n",
    "\n",
    "Such algorithms are given the label **linear time** or, in Big-O notation, $O(n)$. \n",
    "\n",
    "$n$ here is the size of the data structure i.e. `len(arr)`. Length of a data structure also happens to be the number of iterations of the loop. \n",
    "\n",
    "In summary, we measure the speed of an algorithm in relation to: \n",
    "\n",
    "* size of data \n",
    "* number of iterations in all loops in the algorithm\n",
    "\n",
    "For algorithms containing a single loop, the two quantities above are the same in most cases. If an algorithm contains nested loops, then the algorithm is said to be $O(n^2)$\n",
    "\n",
    "This is a good theoretical framework because it measures how the algorithm's speed scales as size of the data increases. \n",
    "\n",
    "## Space Complexity\n",
    "\n",
    "I don't have a lot to say on the issue of space or memory consumption but it is critical. \n",
    "\n",
    "Improving speed of an algorithm often comes at the cost of more memory consumption. That is, improving speed of an algorithm often necessitates creation or use of data structures that allow faster data retrieval and processing times. In that sense, speed and memory have an inherent tension in Computer Science. In this course, we are going to use such data structures that are going to result in very fast code. But the price we have to pay as a result is that we can only work with data sets that can fit within our memory. For most people it is going to be on the order of 8-16 GB. \n",
    "\n",
    "Datasets of today are often much larger than this and require alternative paradigms of computer programming such as Distibuted Computing etc. \n",
    " -->\n"
   ]
  },
  {
   "attachments": {},
   "cell_type": "markdown",
   "metadata": {},
   "source": [
    "<!-- There are two primary considerations in Computer Science: speed and space.  -->"
   ]
  }
 ],
 "metadata": {
  "celltoolbar": "Slideshow",
  "kernelspec": {
   "display_name": "Python 3 (ipykernel)",
   "language": "python",
   "name": "python3"
  },
  "language_info": {
   "codemirror_mode": {
    "name": "ipython",
    "version": 3
   },
   "file_extension": ".py",
   "mimetype": "text/x-python",
   "name": "python",
   "nbconvert_exporter": "python",
   "pygments_lexer": "ipython3",
   "version": "3.9.12"
  }
 },
 "nbformat": 4,
 "nbformat_minor": 2
}
