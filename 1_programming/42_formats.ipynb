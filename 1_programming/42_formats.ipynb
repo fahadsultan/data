{
 "cells": [
  {
   "attachments": {},
   "cell_type": "markdown",
   "metadata": {},
   "source": [
    "## Common Data Formats \n",
    "\n",
    "Format is a term used to describe the way data is stored. For example, a single image is stored as a 2D array of pixels. A video is stored as a sequence of images. A sound is stored as a 1D array of samples. A text is stored as a sequence of characters.\n",
    "\n",
    "### Flat Formats [HIGH DUPLICATION?]\n",
    "\n",
    "**Comma Separated Values (CSV)**\n",
    "\n",
    "CSV is a format used to store tabular data. It is a text file where each line is a row of data. Each row is separated by a comma. Each column is separated by a comma. The first row is the header row. The header row contains the names of the columns. The header row is separated from the data rows by a blank line.\n",
    "\n",
    "**Excel Spreadsheet (XLSX)**\n",
    "\n",
    "XLSX is a format used to store tabular data. It is a binary file where each line is a row of data. Each row is separated by a comma. Each column is separated by a comma. The first row is the header row. The header row contains the names of the columns. The header row is separated from the data rows by a blank line.\n",
    "\n",
    "### Hierarchical (Nested) Formats [LOW DUPLICATION]\n",
    "\n",
    "**Extensible Markup Language (XML)**\n",
    "\n",
    "XML is a format used to store hierarchical data. It is a text file where each line is a node of data. Each node is separated by a blank line. Each node has a name and a value. The name is separated from the value by a colon. The value is separated from the name by a colon. The first node is the root node. The root node contains the names of the nodes. The root node is separated from the data nodes by a blank line.\n",
    "\n",
    "```{image} https://www.websydian.com/olddoc/v61/source/images/horsexml_structure.jpg\n",
    ":width: 100%\n",
    ":align: center\n",
    "```\n",
    "\n",
    "**JavaScript Object Notation (JSON)**\n",
    "\n",
    "JSON is a format used to store hierarchical data. It is a text file where each line is a node of data. Each node is separated by a blank line. Each node has a name and a value. The name is separated from the value by a colon. The value is separated from the name by a colon. The first node is the root node. The root node contains the names of the nodes. The root node is separated from the data nodes by a blank line.\n",
    "\n",
    "```{image} https://assets.shapediver.com/uploads/2019/02/JSONSample.jpg\n",
    ":width: 100%\n",
    ":align: center\n",
    "```\n"
   ]
  }
 ],
 "metadata": {
  "language_info": {
   "name": "python"
  },
  "orig_nbformat": 4
 },
 "nbformat": 4,
 "nbformat_minor": 2
}
