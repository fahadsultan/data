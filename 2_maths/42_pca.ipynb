{
 "cells": [
  {
   "attachments": {},
   "cell_type": "markdown",
   "metadata": {},
   "source": [
    "# Principal Component Analysis"
   ]
  },
  {
   "attachments": {},
   "cell_type": "markdown",
   "metadata": {},
   "source": [
    "Principal Component Analysis (PCA) is a dimensionality reduction technique that is used to transform a high-dimensional dataset into a smaller-dimensional subspace prior to running a machine learning algorithm on the data. PCA is used to overcome the curse of dimensionality and also to reduce the computational complexity of the machine learning algorithms (e.g., due to reduced number of features).\n",
    "\n",
    "PCA is an unsupervised algorithm, which means that it does not require labels for training. PCA is a linear transformation technique that projects the data onto a new coordinate system such that the greatest variance by any projection of the data comes to lie on the first coordinate (called the first principal component), the second greatest variance on the second coordinate, and so on.\n",
    "\n",
    "The following figure illustrates the concept of PCA:\n",
    "\n"
   ]
  },
  {
   "attachments": {},
   "cell_type": "markdown",
   "metadata": {},
   "source": [
    "\n",
    "PCA is a very useful technique for feature extraction and data visualization. In this tutorial, we will discuss the following topics:\n",
    "\n",
    "- PCA for dimensionality reduction\n",
    "- PCA for data visualization\n",
    "- PCA for feature extraction\n",
    "\n",
    "## Singular Value Decomposition (SVD)\n",
    "\n",
    "Before we discuss PCA, let's first discuss Singular Value Decomposition (SVD). SVD is a matrix factorization technique that is used to decompose a matrix into three other matrices as follows:\n",
    "\n",
    "$$A = U \\Sigma V^T$$\n",
    "\n",
    "where $A$ is an $m \\times n$ matrix, $U$ is an $m \\times m$ orthogonal matrix, $\\Sigma$ is an $m \\times n$ diagonal matrix, and $V$ is an $n \\times n$ orthogonal matrix. The diagonal elements of $\\Sigma$ are known as the singular values of $A$."
   ]
  },
  {
   "cell_type": "markdown",
   "metadata": {},
   "source": []
  },
  {
   "attachments": {},
   "cell_type": "markdown",
   "metadata": {},
   "source": []
  }
 ],
 "metadata": {
  "language_info": {
   "name": "python"
  },
  "orig_nbformat": 4
 },
 "nbformat": 4,
 "nbformat_minor": 2
}
