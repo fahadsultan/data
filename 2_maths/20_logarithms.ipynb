{
 "cells": [
  {
   "attachments": {},
   "cell_type": "markdown",
   "metadata": {},
   "source": [
    "# Logarithms"
   ]
  },
  {
   "attachments": {},
   "cell_type": "markdown",
   "metadata": {},
   "source": [
    "<!-- Logarithms are the inverse of exponentials. They are useful for transforming data that is skewed towards large values and also for making data more interpretable.\n",
    "\n",
    "The logarithm of a number is the exponent to which another fixed value, the base, must be raised to produce that number. For example, the logarithm of 1000 to base 10 is 3, because 1000 is 10 to the power 3: 1000 = 10 × 10 × 10 = 10^3.\n",
    "\n",
    "In mathematics, the logarithm is the inverse function to exponentiation. That means the logarithm of a given number x is the exponent to which another fixed number, the base b, must be raised, to produce that number x. In the simplest case, the logarithm counts the number of occurrences of the same factor in repeated multiplication; e.g., since 1000 = 10 × 10 × 10 = 10^3, the “logarithm base 10” of 1000 is 3, or log10(1000) = 3. The logarithm of x to base b is denoted as logb (x), or without parentheses, logb x, or even without the explicit base, log x, when no confusion is possible, or when the base does not matter such as in big O notation.\n",
    "\n",
    "The logarithm to base 10 (that is b = 10) is called the common logarithm and has many applications in science and engineering. The natural logarithm has the number e (that is b = e) as its base; its use is widespread in mathematics and physics, because of its simpler derivative. The binary logarithm uses base 2 (that is b = 2) and is commonly used in computer science.\n",
    "\n",
    "Logarithms were introduced by John Napier in the early 17th century as a means to simplify calculations. They were rapidly adopted by navigators, scientists, engineers, and others to perform computations more easily, using slide rules and logarithm tables. Tedious multi-digit multiplication steps can be replaced by table look-ups and simpler addition because of the fact—important in its own right—that the logarithm of a product is the sum of the logarithms of the factors: logb (xy) = logb x + logb y, a result first published by Napier in 1619.\n",
    "\n",
    "The present-day notion of logarithms comes from Leonhard Euler, who connected them to the exponential function in the 18th century.\n",
    "\n",
    "Logarithms are useful for solving equations in which the unknown appears as the exponent of some other quantity. For example, logarithms are used to solve for the half-life, decay constant, or unknown time in exponential decay problems. They are important in many branches of mathematics and the sciences and are used in finance to solve problems involving compound interest.\n",
    "\n",
    "Logarithms are intimately related to exponentiation, the inverse operation. For example, raising 2 to the third power yields 8, because 8 is the product of three factors of 2:\n",
    "\n",
    "2^3 = 2 × 2 × 2 = 8.\n",
    "\n",
    "It follows that the logarithm of 8 to base 2 is 3:\n",
    "\n",
    "log2(8) = 3,\n",
    "\n",
    "because 2^3 = 8.\n",
    "\n",
    "The third power of some number b is the product of three factors equal to b:\n",
    "\n",
    "b^3 = b × b × b.\n",
    "\n",
    "It follows that the logarithm of b^3 is 3:\n",
    "\n",
    "logb(b^3) = 3.\n",
    "\n",
    "The logarithm is a monotonically increasing function, meaning that the logarithm of a positive real number x is greater than the logarithm of a smaller positive number y whenever x > y. Furthermore, the logarithm is a concave function, meaning that the logarithm of a convex function’s values is always less than or equal to the convex function of the logarithm of that function’s values:\n",
    "\n",
    "logb(λx + (1 − λ)y) ≥ λlogb(x) + (1 − λ)logb(y)\n",
    "\n",
    "for any positive real numbers x and y, and any number λ between 0 and 1. -->\n"
   ]
  }
 ],
 "metadata": {
  "kernelspec": {
   "display_name": "base",
   "language": "python",
   "name": "python3"
  },
  "language_info": {
   "codemirror_mode": {
    "name": "ipython",
    "version": 3
   },
   "file_extension": ".py",
   "mimetype": "text/x-python",
   "name": "python",
   "nbconvert_exporter": "python",
   "pygments_lexer": "ipython3",
   "version": "3.9.12"
  },
  "orig_nbformat": 4
 },
 "nbformat": 4,
 "nbformat_minor": 2
}
