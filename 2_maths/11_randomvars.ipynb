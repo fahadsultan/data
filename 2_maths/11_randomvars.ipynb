{
 "cells": [
  {
   "attachments": {},
   "cell_type": "markdown",
   "metadata": {},
   "source": [
    "# Random Variables"
   ]
  },
  {
   "attachments": {},
   "cell_type": "markdown",
   "metadata": {},
   "source": [
    "## Sample Space $\\Omega$"
   ]
  },
  {
   "attachments": {},
   "cell_type": "markdown",
   "metadata": {},
   "source": [
    "Coin Flip 1 | Coin Flip 2 |\n",
    "------------| ------------|\n",
    "H | H |\n",
    "H | T |\n",
    "T | H |\n",
    "T | T |\n",
    "\n",
    "Sample Space $\\Omega$ (uppercase omega) is the set of all possible worlds \n",
    "\n",
    "$\\Omega = \\{HH, HT, TH, TT\\}$"
   ]
  },
  {
   "attachments": {},
   "cell_type": "markdown",
   "metadata": {},
   "source": [
    "## Possible World $\\omega_i$\n",
    "\n",
    "Possible world | Coin Flip 1 | Coin Flip 2 |\n",
    "---------------|------------| ------------|\n",
    "$\\omega_1$ | H | H |\n",
    "$\\omega_2$ | H | T |\n",
    "$\\omega_3$ | T | H |\n",
    "$\\omega_4$ | T | T |\n",
    "\n",
    "Sample space $\\Omega$ is"
   ]
  },
  {
   "attachments": {},
   "cell_type": "markdown",
   "metadata": {},
   "source": [
    "## Probability Model $P(\\omega)$"
   ]
  },
  {
   "attachments": {},
   "cell_type": "markdown",
   "metadata": {},
   "source": [
    "$$ 0 \\lt P(\\omega_i) \\lt 1 \\text{~for every~} \\omega_i$$ \n",
    "\n",
    "$$ \\sum_{\\omega \\in \\Omega} P(\\omega_i) = 1$$"
   ]
  },
  {
   "cell_type": "markdown",
   "metadata": {},
   "source": [
    "## Joint Probability"
   ]
  },
  {
   "attachments": {},
   "cell_type": "markdown",
   "metadata": {},
   "source": [
    "$$ P(A, B) = P(A | B) \\cdot P(B) = P(B | A) \\cdot P(A)$$"
   ]
  },
  {
   "attachments": {},
   "cell_type": "markdown",
   "metadata": {},
   "source": [
    "In Data Science, we never have joint probability. "
   ]
  },
  {
   "cell_type": "markdown",
   "metadata": {},
   "source": [
    "## Conditional Probability"
   ]
  },
  {
   "attachments": {},
   "cell_type": "markdown",
   "metadata": {},
   "source": [
    "$$ P(A | B) = \\frac{P(A, B)}{P(B)} $$"
   ]
  },
  {
   "attachments": {},
   "cell_type": "markdown",
   "metadata": {},
   "source": [
    "## Marginalizing from Joint Probability"
   ]
  },
  {
   "attachments": {},
   "cell_type": "markdown",
   "metadata": {},
   "source": [
    "$$ P(A) = \\sum_{B=b} P(A, B) $$"
   ]
  },
  {
   "attachments": {},
   "cell_type": "markdown",
   "metadata": {},
   "source": [
    "## Bayes Theorem"
   ]
  },
  {
   "attachments": {},
   "cell_type": "markdown",
   "metadata": {},
   "source": [
    "$$P(\\text{Hypothesis}) = \\frac{P(\\text{Likelihood})\\cdot P(\\text{Prior})}{P(\\text{Evidence})}$$\n",
    "\n",
    "<br/>\n",
    "\n",
    "$$P(A | B) = \\frac{P(B | A)\\cdot P(B)}{P(A)}$$"
   ]
  },
  {
   "cell_type": "markdown",
   "metadata": {},
   "source": []
  }
 ],
 "metadata": {
  "language_info": {
   "name": "python"
  },
  "orig_nbformat": 4
 },
 "nbformat": 4,
 "nbformat_minor": 2
}
