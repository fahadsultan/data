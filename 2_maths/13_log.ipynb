{
 "cells": [
  {
   "attachments": {},
   "cell_type": "markdown",
   "metadata": {},
   "source": [
    "# Logarithms"
   ]
  },
  {
   "attachments": {},
   "cell_type": "markdown",
   "metadata": {},
   "source": [
    "The logarithm is the inverse exponential function of base b. That is, \n",
    "\n",
    "$$ \\text{if  } y = e^x $$ \n",
    "\n",
    "$$ \\text{then  } x = log_e y $$\n",
    "\n",
    "From the two equations above, it follows that\n",
    "\n",
    "$$  log_e e^x = x $$"
   ]
  },
  {
   "cell_type": "code",
   "execution_count": 2,
   "metadata": {},
   "outputs": [
    {
     "data": {
      "image/png": "[encoded data removed]",
      "text/plain": [
       "<Figure size 432x288 with 1 Axes>"
      ]
     },
     "metadata": {
      "needs_background": "light"
     },
     "output_type": "display_data"
    }
   ],
   "source": [
    "import pandas as pd \n",
    "import seaborn as sns\n",
    "from math import log, exp\n",
    "from matplotlib import pyplot as plt\n",
    "\n",
    "data = pd.DataFrame()\n",
    "data['X'] = range(1, 101)\n",
    "data['Y'] = data['X'].apply(lambda x: math.e ** x)\n",
    "\n",
    "axs = sns.lineplot(data=data, x='X', y='Y');\n",
    "axs.set(title=\"$Y = f(x) = e^{~x}$\" + \" where \" + \"$x \\in [0, 1000)$\");"
   ]
  },
  {
   "cell_type": "code",
   "execution_count": 27,
   "metadata": {},
   "outputs": [
    {
     "data": {
      "text/html": [
       "<div>\n",
       "<style scoped>\n",
       "    .dataframe tbody tr th:only-of-type {\n",
       "        vertical-align: middle;\n",
       "    }\n",
       "\n",
       "    .dataframe tbody tr th {\n",
       "        vertical-align: top;\n",
       "    }\n",
       "\n",
       "    .dataframe thead th {\n",
       "        text-align: right;\n",
       "    }\n",
       "</style>\n",
       "<table border=\"1\" class=\"dataframe\">\n",
       "  <thead>\n",
       "    <tr style=\"text-align: right;\">\n",
       "      <th></th>\n",
       "      <th>X</th>\n",
       "      <th>Y</th>\n",
       "    </tr>\n",
       "  </thead>\n",
       "  <tbody>\n",
       "    <tr>\n",
       "      <th>95</th>\n",
       "      <td>95</td>\n",
       "      <td>1.811239e+41</td>\n",
       "    </tr>\n",
       "    <tr>\n",
       "      <th>96</th>\n",
       "      <td>96</td>\n",
       "      <td>4.923458e+41</td>\n",
       "    </tr>\n",
       "    <tr>\n",
       "      <th>97</th>\n",
       "      <td>97</td>\n",
       "      <td>1.338335e+42</td>\n",
       "    </tr>\n",
       "    <tr>\n",
       "      <th>98</th>\n",
       "      <td>98</td>\n",
       "      <td>3.637971e+42</td>\n",
       "    </tr>\n",
       "    <tr>\n",
       "      <th>99</th>\n",
       "      <td>99</td>\n",
       "      <td>9.889030e+42</td>\n",
       "    </tr>\n",
       "  </tbody>\n",
       "</table>\n",
       "</div>"
      ],
      "text/plain": [
       "     X             Y\n",
       "95  95  1.811239e+41\n",
       "96  96  4.923458e+41\n",
       "97  97  1.338335e+42\n",
       "98  98  3.637971e+42\n",
       "99  99  9.889030e+42"
      ]
     },
     "execution_count": 27,
     "metadata": {},
     "output_type": "execute_result"
    }
   ],
   "source": []
  },
  {
   "cell_type": "code",
   "execution_count": 59,
   "metadata": {},
   "outputs": [
    {
     "data": {
      "image/png": "[encoded data removed]",
      "text/plain": [
       "<Figure size 432x288 with 1 Axes>"
      ]
     },
     "metadata": {
      "needs_background": "light"
     },
     "output_type": "display_data"
    }
   ],
   "source": [
    "data['log(Y)'] = data['Y'].apply(lambda x: log(x))\n",
    "data['log(X)'] = data['X'].apply(lambda x: log(x))\n",
    "axs = sns.lineplot(data=data, x='X', y='Y');\n",
    "axs = sns.lineplot(data=data, x='X', y='log(Y)');\n",
    "axs = sns.lineplot(data=data, x='X', y='log(X)');\n",
    "plt.legend(labels=['$Y = e^{x}$', '$log_e(Y)$', '$log_e(X)$']);\n",
    "plt.ylim(0, 50);\n",
    "plt.xlim(0, 50);"
   ]
  },
  {
   "attachments": {},
   "cell_type": "markdown",
   "metadata": {},
   "source": [
    "Exponential functions grow at a very fast rate. In contrast, logarithms grow a very slow rate."
   ]
  },
  {
   "cell_type": "code",
   "execution_count": 60,
   "metadata": {},
   "outputs": [
    {
     "data": {
      "text/html": [
       "<div>\n",
       "<style scoped>\n",
       "    .dataframe tbody tr th:only-of-type {\n",
       "        vertical-align: middle;\n",
       "    }\n",
       "\n",
       "    .dataframe tbody tr th {\n",
       "        vertical-align: top;\n",
       "    }\n",
       "\n",
       "    .dataframe thead th {\n",
       "        text-align: right;\n",
       "    }\n",
       "</style>\n",
       "<table border=\"1\" class=\"dataframe\">\n",
       "  <thead>\n",
       "    <tr style=\"text-align: right;\">\n",
       "      <th></th>\n",
       "      <th>X</th>\n",
       "      <th>Y</th>\n",
       "      <th>log(Y)</th>\n",
       "      <th>log(X)</th>\n",
       "    </tr>\n",
       "  </thead>\n",
       "  <tbody>\n",
       "    <tr>\n",
       "      <th>95</th>\n",
       "      <td>96</td>\n",
       "      <td>4.923458e+41</td>\n",
       "      <td>96.0</td>\n",
       "      <td>4.564348</td>\n",
       "    </tr>\n",
       "    <tr>\n",
       "      <th>96</th>\n",
       "      <td>97</td>\n",
       "      <td>1.338335e+42</td>\n",
       "      <td>97.0</td>\n",
       "      <td>4.574711</td>\n",
       "    </tr>\n",
       "    <tr>\n",
       "      <th>97</th>\n",
       "      <td>98</td>\n",
       "      <td>3.637971e+42</td>\n",
       "      <td>98.0</td>\n",
       "      <td>4.584967</td>\n",
       "    </tr>\n",
       "    <tr>\n",
       "      <th>98</th>\n",
       "      <td>99</td>\n",
       "      <td>9.889030e+42</td>\n",
       "      <td>99.0</td>\n",
       "      <td>4.595120</td>\n",
       "    </tr>\n",
       "    <tr>\n",
       "      <th>99</th>\n",
       "      <td>100</td>\n",
       "      <td>2.688117e+43</td>\n",
       "      <td>100.0</td>\n",
       "      <td>4.605170</td>\n",
       "    </tr>\n",
       "  </tbody>\n",
       "</table>\n",
       "</div>"
      ],
      "text/plain": [
       "      X             Y  log(Y)    log(X)\n",
       "95   96  4.923458e+41    96.0  4.564348\n",
       "96   97  1.338335e+42    97.0  4.574711\n",
       "97   98  3.637971e+42    98.0  4.584967\n",
       "98   99  9.889030e+42    99.0  4.595120\n",
       "99  100  2.688117e+43   100.0  4.605170"
      ]
     },
     "execution_count": 60,
     "metadata": {},
     "output_type": "execute_result"
    }
   ],
   "source": [
    "data.tail()"
   ]
  },
  {
   "attachments": {},
   "cell_type": "markdown",
   "metadata": {},
   "source": [
    "The natural logarithm is the logarithm to the base $e$, where $e$ is an irrational constant called Euler's number, approximately equal to 2.718281828459. The natural logarithm of a number $x$ is generally written as $ln x$ or $log_e x$.\n",
    "\n",
    "The relationship between the exponential function and the logarithm is preserved when considering logarithms to any other base. Therefore, more generally, \n",
    "\n",
    "$$ \\text{if  } y = b^x $$\n",
    "$$ \\text{then  } x = log_b y $$\n",
    "\n",
    "The logarithm of a number y to base b is the exponent to which we must raise b to get y.\n",
    "\n",
    "For example, $2^3 = 8$, so $log_2 8 = 3$. \n",
    "\n",
    "Logarithms are very useful things, and arise often in data analysis. Here I detail three important roles logarithms play in data science. "
   ]
  },
  {
   "attachments": {},
   "cell_type": "markdown",
   "metadata": {},
   "source": [
    "## Monotonically Increasing Function\n",
    "\n",
    "A function $f (x)$ is monotonically increasing if $x1 > x2$ implies that $f (x1) > f (x2)$. \n",
    "\n",
    "The logarithm is a monotonically increasing function. This means that if $x1 > x2$ then $log(x1) > log(x2)$. \n",
    "\n",
    "This is a very useful property, because it means that we can apply a logarithmic transformation without changing the order of the data. Preserving the relative order of the data is important for many statistical techniques. "
   ]
  },
  {
   "cell_type": "code",
   "execution_count": 94,
   "metadata": {},
   "outputs": [
    {
     "data": {
      "image/png": "[encoded data removed]",
      "text/plain": [
       "<Figure size 432x288 with 1 Axes>"
      ]
     },
     "metadata": {
      "needs_background": "light"
     },
     "output_type": "display_data"
    }
   ],
   "source": [
    "axs = sns.scatterplot(data=data, x='X', y='Y',      hue='X', palette='dark');\n",
    "axs = sns.scatterplot(data=data, x='X', y='log(Y)', hue='X', palette='dark');\n",
    "axs = sns.scatterplot(data=data, x='X', y='log(X)', hue='X', palette='dark');\n",
    "axs.legend([],[], frameon=False)\n",
    "axs.set(title=\"Note that the order of the points is preserved between\\ntop: $Y=e^X$, middle:$X$ and bottom:$log(X)$\");\n",
    "plt.ylim(0, 25);\n",
    "plt.xlim(0, 25);"
   ]
  },
  {
   "attachments": {},
   "cell_type": "markdown",
   "metadata": {},
   "source": [
    "## Multiplying Probabilities\n",
    "\n",
    "Logarithms were first invented as an aide to computation, by reducing the problem of multiplication to that of addition. \n",
    "\n",
    "In particular, to compute the product $p = x \\cdot y$, we could compute the sum of the logarithms $s = log_b x+log_b y$ and then take the inverse of the logarithm (i.e. raising $b$ to the $sth$ power) to get $p$, because:\n",
    "\n",
    "$$p = x \\cdot y = b^{(log_b x+log_b y)}$$\n",
    "\n",
    "This is the trick that powered the mechanical slide rules that geeks used in the days before pocket calculators.\n",
    "\n",
    "However, this idea remains important today, particularly **when multiplying long chains of probabilities**.\n",
    "Probabilities are small numbers. Thus multiplying long chains of probability yield very small numbers that govern the chances of very rare events. There are serious **numerical stability problems** with floating point multiplication on real computers. Numerical errors will creep in, and will eventually overwhelm the true value of small-enough numbers.\n",
    "\n",
    "**Summing the logarithms of probabilities is much more numerically stable than multiplying them, but yields an equivalent result** because:\n",
    "\n",
    "$$ \\prod_{i=1}^{n} p_i = b^P , \\text{where}~~P = \\sum_{i=1}^{n} log_b(p_i) $$\n",
    "\n",
    "We can raise our sum to an exponential if we need the real probability, but usually this is not necessary. \n",
    "\n",
    "When we just need to compare two probabilities to decide which one is larger we can safely stay in log world, because bigger logarithms correspond to bigger probabilities.\n",
    "\n",
    "_There is one quirk to be aware of. Recall that the log2(12) = −1. The logarithms of probabilities are all negative numbers except for log(1) = 0. This is the reason why equations with logs of probabilities often feature negative signs in strange places. Be on the lookout for them._"
   ]
  },
  {
   "attachments": {},
   "cell_type": "markdown",
   "metadata": {},
   "source": [
    "## Ratios of Probabilities"
   ]
  },
  {
   "attachments": {},
   "cell_type": "markdown",
   "metadata": {},
   "source": [
    "Ratios are quantities of the form $\\frac{a}/{b}$. They occur often in data sets either as elementary features or values derived from feature pairs. Ratios naturally occur in normalizing data for conditions (i.e. weight after some treatment over the initial weight) or time (i.e. today’s price over yesterday’s price).\n",
    "\n",
    "But ratios behave differently when reflecting increases than decreases. The ratio $200/100$ is $200%$ above baseline, but $100/200$ is only 50% below despite being a similar magnitude change. Thus doing things like averaging ratios is committing a statistical sin. Do you really want a doubling followed by a halving to average out as an increase, as opposed to a neutral change?\n",
    "\n",
    "One solution here would have been to use the geometric mean. But better is taking the logarithm of these ratios, so that they yield equal displacement, since log_2 2 = 1 and log_2(1/2) = −1. We get the extra bonus that a unit ratio maps to zero, so positive and negative numbers correspond to improper and proper ratios, respectively.\n",
    "\n",
    "```{figure} ../assets/log_ratios.png\n",
    "---\n",
    "width: 70%\n",
    "name: log_ratio\n",
    "---\n",
    "Plotting ratios on a scale cramps the space allocated to small ratios relative to large ratios (left). Plotting the logarithms of ratios better represents the underlying data (right).\n",
    "```\n",
    "\n",
    "A rookie mistake my students often make involves plotting the value of ratios instead of their logarithms. Figure above (left) is a graph from a student paper, showing the ratio of new score over old score on data over 24 hours (each red dot is the measurement for one hour) on four different data sets (each given a row). The solid black line shows the ratio of one, where both scores give the same result. Now try to read this graph: it isn’t easy because the points on the left side of the line are cramped together in a narrow strip. What jumps out at you are the outliers. Certainly the new algorithm does terrible on 7UM917 in the top row: that point all the way to the right is a real outlier.\n",
    "\n",
    "Except that it isn’t. Now look at the panel  on the right, where we plot the logarithms of the ratios. The space devoted to left and right of the black line can now be equal. And it shows that this point wasn’t really such an outlier at all. The magnitude of improvement of the leftmost points is much greater than that of the rightmost points. This plot reveals that new algorithm generally makes things better, only because we are showing logs of ratios instead of the ratios themselves."
   ]
  },
  {
   "attachments": {},
   "cell_type": "markdown",
   "metadata": {},
   "source": [
    "Similar to the case of multiplying probabilities, ratio of probabilities can be computed by subtracting the logarithms of the probabilities:"
   ]
  },
  {
   "attachments": {},
   "cell_type": "markdown",
   "metadata": {},
   "source": [
    "$$ log_{~b} (\\frac{a}{b} ) = log_{~b} ( a - b ) $$"
   ]
  },
  {
   "attachments": {},
   "cell_type": "markdown",
   "metadata": {},
   "source": [
    "## Normalizing Skewed Distributions"
   ]
  },
  {
   "attachments": {},
   "cell_type": "markdown",
   "metadata": {},
   "source": [
    "Variables which follow symmetric, bell-shaped distributions tend to be nice as features in models. They show substantial variation, so they can be used to discriminate between things, but not over such a wide range that outliers are overwhelming.\n",
    "\n",
    "But not every distribution is symmetric. Consider the one in Figure 2.13 (left). The tail on the right goes much further than the tail on the left. And we are destined to see far more lopsided distributions when we discuss power laws, in Section 5.1.5. Wealth is representative of such a distribution, where the poorest human has zero or perhaps negative wealth, the average person (optimistically) is in the thousands of dollars, and Bill Gates is pushing $100 billion as of this writing.\n",
    "\n",
    "\n",
    "```{figure} ../assets/log_skew.png\n",
    "---\n",
    "width: 70%\n",
    "name: log_skew\n",
    "---\n",
    "Hitting a skewed data distribution (left) with a log often yields a more bell-shaped distribution (right).\n",
    "```\n",
    "\n",
    "\n",
    "We need a normalization to convert such distributions into something easier to deal with. To ring the bell of a power law distribution we need something non-linear, that reduces large values to a disproportionate degree compared to more modest values.\n",
    "\n",
    "The logarithm is the transformation of choice for power law variables. Hit your long-tailed distribution with a log and often good things happen. The distribution in Figure 2.13 happened to be the log normal distribution, so taking the logarithm yielded a perfect bell-curve on right. Taking the logarithm of variables with a power law distribution brings them more in line with traditional distributions. For example, as an upper-middle class professional, my wealth is roughly the same number of logs from my starving students as I am from Bill Gates!\n",
    "\n",
    "Sometimes taking the logarithm proves too drastic a hit, and a less dramatic non-linear transformation like the square root works better to normalize a dis- tribution. The acid test is to plot a frequency distribution of the transformed values and see if it looks bell-shaped: grossly-symmetric, with a bulge in the middle. That is when you know you have the right function.\n"
   ]
  },
  {
   "attachments": {},
   "cell_type": "markdown",
   "metadata": {},
   "source": [
    "<hr/>\n",
    "\n",
    "In `matplotlib` you can specify the use of log scale for an axis with **`plt.yscale('log')`** or **`plt.xscale('log')`**. \n",
    "\n",
    "Example code cell below. Note how the values on the y-axis are still evenly spaced but increase exponentially."
   ]
  },
  {
   "cell_type": "code",
   "execution_count": 97,
   "metadata": {},
   "outputs": [
    {
     "data": {
      "image/png": "[encoded data removed]",
      "text/plain": [
       "<Figure size 432x288 with 1 Axes>"
      ]
     },
     "metadata": {
      "needs_background": "light"
     },
     "output_type": "display_data"
    }
   ],
   "source": [
    "df = pd.DataFrame()\n",
    "df['X'] = range(1, 101)\n",
    "df['Y'] = df['X'].apply(lambda x: math.e ** x)\n",
    "\n",
    "sns.lineplot(data=df, x='X', y='Y');\n",
    "plt.yscale('log');"
   ]
  },
  {
   "attachments": {},
   "cell_type": "markdown",
   "metadata": {},
   "source": [
    "Similarly, you can specify the use of log scale for both axes with **`log_scale = [True, False]`** in most plotting functions in `seaborn`. The first value in the list is for the x-axis, the second for the y-axis. `True` means log scale, `False` means the default linear scale."
   ]
  },
  {
   "cell_type": "code",
   "execution_count": 7,
   "metadata": {},
   "outputs": [
    {
     "data": {
      "image/png": "[encoded data removed]",
      "text/plain": [
       "<Figure size 432x288 with 1 Axes>"
      ]
     },
     "metadata": {
      "needs_background": "light"
     },
     "output_type": "display_data"
    }
   ],
   "source": [
    "import math \n",
    "import pandas as pd\n",
    "df = pd.DataFrame()\n",
    "df['X'] = range(1, 20)\n",
    "df['Y'] = df['X'].apply(lambda x: 2 ** x)\n",
    "\n",
    "sns.histplot(data=df, x='Y');"
   ]
  },
  {
   "cell_type": "code",
   "execution_count": 11,
   "metadata": {},
   "outputs": [
    {
     "data": {
      "image/png": "[encoded data removed]",
      "text/plain": [
       "<Figure size 432x288 with 1 Axes>"
      ]
     },
     "metadata": {
      "needs_background": "light"
     },
     "output_type": "display_data"
    }
   ],
   "source": [
    "sns.histplot(data=df, x='Y', log_scale=[True, False]);"
   ]
  }
 ],
 "metadata": {
  "kernelspec": {
   "display_name": "base",
   "language": "python",
   "name": "python3"
  },
  "language_info": {
   "codemirror_mode": {
    "name": "ipython",
    "version": 3
   },
   "file_extension": ".py",
   "mimetype": "text/x-python",
   "name": "python",
   "nbconvert_exporter": "python",
   "pygments_lexer": "ipython3",
   "version": "3.9.12"
  },
  "orig_nbformat": 4
 },
 "nbformat": 4,
 "nbformat_minor": 2
}
