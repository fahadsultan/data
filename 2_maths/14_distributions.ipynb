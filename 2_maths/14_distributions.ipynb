{
 "cells": [
  {
   "attachments": {},
   "cell_type": "markdown",
   "metadata": {},
   "source": [
    "# Probability Distributions"
   ]
  },
  {
   "attachments": {},
   "cell_type": "markdown",
   "metadata": {},
   "source": [
    "If the random variable is discrete, the probability distribution is called a probability mass function (pmf). If the random variable is continuous, the probability distribution is called a probability density function (pdf)."
   ]
  },
  {
   "attachments": {},
   "cell_type": "markdown",
   "metadata": {},
   "source": [
    "## Uniform Distribution"
   ]
  },
  {
   "attachments": {},
   "cell_type": "markdown",
   "metadata": {},
   "source": [
    "Uniform distribution is a probability distribution where all outcomes are equally likely. For example, rolling a dice, the probability of getting any number between 1 to 6 is equally likely.\n",
    "\n",
    "The probability density function of the uniform distribution is defined as:\n",
    "\n",
    "$$f(x) = \\frac{1}{b-a}$$\n",
    "\n",
    "where $a$ is the minimum possible value and $b$ is the maximum possible value.\n"
   ]
  },
  {
   "attachments": {},
   "cell_type": "markdown",
   "metadata": {},
   "source": [
    "The probability distribution function of the uniform distribution is defined as:\n",
    "\n",
    "$$F(x) = \\frac{x-a}{b-a}$$\n",
    "\n",
    "where $a$ is the minimum possible value and $b$ is the maximum possible value.\n",
    "\n",
    "The mean of the uniform distribution is:\n",
    "\n",
    "$$\\mu = \\frac{a+b}{2}$$\n",
    "\n",
    "The variance of the uniform distribution is:\n",
    "\n",
    "$$\\sigma^2 = \\frac{(b-a)^2}{12}$$\n",
    "\n",
    "The standard deviation of the uniform distribution is:\n",
    "\n",
    "$$\\sigma = \\frac{b-a}{\\sqrt{12}}$$\n",
    "\n",
    "The shape of the uniform distribution is flat. The probability of getting any value between $a$ and $b$ is the same. The probability of getting a value less than $a$ is 0 and the probability of getting a value greater than $b$ is 1. \n",
    "\n",
    "\n",
    "\n",
    "The uniform distribution is a special case of the beta distribution where $\\alpha=1$ and $\\beta=1$.\n",
    "\n",
    "The uniform distribution is a special case of the gamma distribution where $\\alpha=1$.\n",
    "\n",
    "The uniform distribution is a special case of the normal distribution where $\\mu=\\frac{a+b}{2}$ and $\\sigma=\\frac{b-a}{\\sqrt{12}}$.\n",
    "\n",
    "The uniform distribution is a special case of the exponential distribution where $\\lambda=\\frac{1}{b-a}$.\n",
    "\n",
    "The uniform distribution is a special case of the chi-squared distribution where $k=2$ and $\\lambda=\\frac{1}{2(b-a)}$.\n",
    "\n"
   ]
  },
  {
   "cell_type": "code",
   "execution_count": 4,
   "metadata": {},
   "outputs": [
    {
     "data": {
      "image/png": "[encoded data removed]",
      "text/plain": [
       "<Figure size 432x288 with 1 Axes>"
      ]
     },
     "metadata": {
      "needs_background": "light"
     },
     "output_type": "display_data"
    }
   ],
   "source": [
    "import numpy as np\n",
    "import seaborn as sns\n",
    "\n",
    "uniform = np.random.rand(1000);\n",
    "\n",
    "sns.histplot(uniform);"
   ]
  },
  {
   "attachments": {},
   "cell_type": "markdown",
   "metadata": {},
   "source": [
    "## Gaussian"
   ]
  },
  {
   "attachments": {},
   "cell_type": "markdown",
   "metadata": {},
   "source": [
    "The shape of the Gaussian distribution is like a bell. The Gaussian distribution is also known as the normal distribution. The Gaussian distribution is a continuous probability distribution. The Gaussian distribution is defined by two parameters, the mean $\\mu$ and the standard deviation $\\sigma$. The mean $\\mu$ determines the location of the center of the distribution and the standard deviation $\\sigma$ determines the width of the distribution. The Gaussian distribution is symmetric about the mean $\\mu$. The mean $\\mu$ is also the median and the mode of the Gaussian distribution. The Gaussian distribution is defined as:\n",
    "\n",
    "$$f(x) = \\frac{1}{\\sigma\\sqrt{2\\pi}}e^{-\\frac{(x-\\mu)^2}{2\\sigma^2}}$$"
   ]
  },
  {
   "attachments": {},
   "cell_type": "markdown",
   "metadata": {},
   "source": [
    "Gaussion distribution is a probability distribution where the values are symmetrically distributed around the mean. The mean, median and mode of the Gaussian distribution are equal. The probability density function of the Gaussian distribution is defined as:\n",
    "\n",
    "$$f(x) = \\frac{1}{\\sigma\\sqrt{2\\pi}}e^{-\\frac{(x-\\mu)^2}{2\\sigma^2}}$$\n",
    "\n",
    "where $\\mu$ is the mean and $\\sigma$ is the standard deviation.\n",
    "\n",
    "The probability distribution function of the Gaussian distribution is defined as:\n",
    "\n",
    "$$F(x) = \\frac{1}{\\sigma\\sqrt{2\\pi}}\\int_{-\\infty}^{x}e^{-\\frac{(t-\\mu)^2}{2\\sigma^2}}dt$$\n",
    "\n",
    "where $\\mu$ is the mean and $\\sigma$ is the standard deviation."
   ]
  },
  {
   "attachments": {},
   "cell_type": "markdown",
   "metadata": {},
   "source": [
    "The difference between Gaussian distribution and normal distribution is that Gaussian distribution is a probability distribution and normal distribution is a probability density function."
   ]
  },
  {
   "attachments": {},
   "cell_type": "markdown",
   "metadata": {},
   "source": [
    "## Standard Normal"
   ]
  },
  {
   "cell_type": "markdown",
   "metadata": {},
   "source": []
  },
  {
   "attachments": {},
   "cell_type": "markdown",
   "metadata": {},
   "source": [
    "## Bionomial"
   ]
  },
  {
   "cell_type": "markdown",
   "metadata": {},
   "source": []
  },
  {
   "attachments": {},
   "cell_type": "markdown",
   "metadata": {},
   "source": [
    "## Power Law Distribution"
   ]
  },
  {
   "attachments": {},
   "cell_type": "markdown",
   "metadata": {},
   "source": [
    "Power law distributions are probability distributions where the probability of an event with value $x$ is proportional to $x^{-\\alpha}$, where $\\alpha$ is a constant. Power law distributions are also known as Pareto distributions. Power law distributions are used to model the distribution of wealth, city population, earthquake magnitude, word frequency, etc. The probability density function of the power law distribution is defined as:\n",
    "\n",
    "$$f(x) = \\frac{\\alpha-1}{x_{min}}\\left(\\frac{x}{x_{min}}\\right)^{-\\alpha}$$\n",
    "\n",
    "where $\\alpha$ is the exponent and $x_{min}$ is the minimum possible value.\n",
    "\n",
    "The probability distribution function of the power law distribution is defined as:\n",
    "\n",
    "$$F(x) = 1-\\left(\\frac{x}{x_{min}}\\right)^{-\\alpha+1}$$\n",
    "\n",
    "where $\\alpha$ is the exponent and $x_{min}$ is the minimum possible value.\n",
    "\n",
    "The mean of the power law distribution is $\\mu = \\frac{\\alpha-1}{\\alpha-2}x_{min}$\n",
    "\n",
    "The variance of the power law distribution is $\\sigma^2 = \\frac{\\alpha-1}{(\\alpha-3)(\\alpha-2)^2}x_{min}^2$\n",
    "\n",
    "The standard deviation of the power law distribution is $\\sigma = \\sqrt{\\frac{\\alpha-1}{(\\alpha-3)(\\alpha-2)^2}x_{min}^2}$\n",
    "\n",
    "The shape of the power law distribution is a straight line on a log-log plot. The probability of getting a value less than $x_{min}$ is 0 and the probability of getting a value greater than $x_{min}$ is 1.\n",
    "\n",
    "The power law distribution is a special case of the exponential distribution where $\\lambda=\\frac{\\alpha-1}{x_{min}}$."
   ]
  },
  {
   "cell_type": "markdown",
   "metadata": {},
   "source": []
  }
 ],
 "metadata": {
  "kernelspec": {
   "display_name": "base",
   "language": "python",
   "name": "python3"
  },
  "language_info": {
   "codemirror_mode": {
    "name": "ipython",
    "version": 3
   },
   "file_extension": ".py",
   "mimetype": "text/x-python",
   "name": "python",
   "nbconvert_exporter": "python",
   "pygments_lexer": "ipython3",
   "version": "3.9.12"
  },
  "orig_nbformat": 4
 },
 "nbformat": 4,
 "nbformat_minor": 2
}
