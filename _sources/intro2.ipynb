{
 "cells": [
  {
   "cell_type": "markdown",
   "metadata": {},
   "source": [
    "# Introduction "
   ]
  },
  {
   "attachments": {},
   "cell_type": "markdown",
   "metadata": {
    "slideshow": {
     "slide_type": "slide"
    }
   },
   "source": [
    "## About Me\n",
    "\n",
    "**Name**: \n",
    "\n",
    "Syed Fahad Sultan\n",
    "\n",
    "سید فہد سلطان\n",
    "\n",
    "**Pronunciation**: \n",
    "\n",
    "sæjjɪd fah(aː)d  solˈtˤɑːn\n",
    "\n",
    "_Just call me **“Dr. Sultan”**_ (Pronounced: Sool-tahn [🔈](https://upload.wikimedia.org/wikipedia/commons/c/cd/LL-Q9292_%28aze%29-Azerbaijani_audiorecordings-sultan.wav))\n",
    "\n",
    "\n",
    ":::{figure-md} markdown-fig\n",
    "\n",
    "<img src=\"assets/name.png\" alt=\"name\" class=\"bg-primary mb-1\" width=\"50%\">\n",
    "\n",
    ":::\n",
    "\n",
    "```{figure} assets/name.png\n",
    "---\n",
    "scale: 50%\n",
    "align: center\n",
    "---\n",
    "Names work differently in different parts of the world!\n",
    "``` "
   ]
  },
  {
   "cell_type": "markdown",
   "metadata": {
    "slideshow": {
     "slide_type": "slide"
    }
   },
   "source": [
    "* Originally from Lahore, Pakistan\n",
    "    * Population of Lahore > Population of New York City\n",
    "\n",
    "* Video-game developer for 2 years: made TapFish \n",
    "    * Top grossing game for 2 weeks globally in 2011\n",
    "\n",
    "* Low-lost technology solutions for the developing world\n",
    "    * Computational social science\n",
    "    * Estimating census data from social media\n",
    "\n",
    "* Lived and worked in Mecca, Saudi Arabia\n",
    "    * Made Urban Sensing and Crowd Control Solutions\n",
    "\n",
    "* PhD from State University of New York, Stony Brook \n",
    "    * Computational Neuroscience and Bioinformatics\n",
    "    * Dissertation: Predictive Models and Representations for Neuroimaging and Genetic Data\n",
    "\n",
    "Teaching Assistant: Mister Cat\n"
   ]
  },
  {
   "attachments": {},
   "cell_type": "markdown",
   "metadata": {
    "slideshow": {
     "slide_type": "slide"
    }
   },
   "source": [
    "\n",
    "## How to Reach Me\n",
    "\n",
    "<center><img align=\"right\" width=\"35%\" style=\"float:right\" src=\"assets/office.png\"></center>\n",
    "\n",
    "**Office**: Riley Hall 200-D\n",
    "\n",
    "**Email**: fahad.sultan@furman.edu\n",
    "\n",
    "**Office hours**: \n",
    "\n",
    "Monday:   1:30 PM – 4:30 PM\n",
    "\n",
    "Thursday: 8:30 AM – 11:30 AM \n",
    "\n",
    "_Drop by office, for any other time_\n",
    "\n",
    "**Open door policy**, when not in class or meeting\n",
    "OR\n",
    "Email to schedule time\n"
   ]
  },
  {
   "cell_type": "markdown",
   "metadata": {
    "slideshow": {
     "slide_type": "slide"
    }
   },
   "source": [
    "\n",
    "## Course Week\n",
    "\n",
    "## About the Course\n",
    "\n",
    "Computer Science is the confluence of mathematics, algorithms, software (programming), and hardware.\n",
    "\n",
    "In this course, with the exception of hardware, we will summon all of these to study data mining. \n",
    "\n",
    "Course website:\n",
    " \n",
    "https://fahadsultan.com/datascience_ml\n",
    "\n",
    "All of the content will be posted on the course website\n",
    "\n",
    "Some might also be uploaded on Moodle, as needed/requested\n",
    "\n",
    "All electronic submissions on Moodle \n",
    "\n",
    "All physical submissions in-person or office. \n",
    "\n",
    "## Assignments \n",
    "\n",
    "Approach assignments purely as opportunities to:\n",
    "\n",
    "Learn\n",
    "\n",
    "Prepare for Career/Grad School\n",
    "\n",
    "Prepare for Exams\n",
    "\n",
    "Find the joy in the course material!\n",
    "\n",
    "Expect near maximum flexibility from me\n",
    "\n",
    "Soft deadlines: Weekly\n",
    "\n",
    "Hard deadlines: Before next Exam\n",
    "\n",
    "These would build on your understanding of algorithms covered in class\n",
    "\n",
    "Would generally involve tracing algorithms and dry-runs. May involve math. \n",
    "\n",
    "Expect similar questions on the exams\n",
    "\n",
    "Both handwritten or typed submissions are acceptable \n",
    "\n",
    "Submit soft copy on Moodle\n",
    "\n",
    "Submit hard copy in-person or slide under door or place in file rack outside office \n",
    "\n",
    "\n",
    "### Math \n",
    "\n",
    "### Programming \n",
    "\n",
    "## Project\n",
    "\n",
    "## What is Data Mining?\n",
    "\n",
    "## Data Modalities "
   ]
  }
 ],
 "metadata": {
  "celltoolbar": "Slideshow",
  "kernelspec": {
   "display_name": "Python 3 (ipykernel)",
   "language": "python",
   "name": "python3"
  },
  "language_info": {
   "codemirror_mode": {
    "name": "ipython",
    "version": 3
   },
   "file_extension": ".py",
   "mimetype": "text/x-python",
   "name": "python",
   "nbconvert_exporter": "python",
   "pygments_lexer": "ipython3",
   "version": "3.9.12"
  }
 },
 "nbformat": 4,
 "nbformat_minor": 2
}
