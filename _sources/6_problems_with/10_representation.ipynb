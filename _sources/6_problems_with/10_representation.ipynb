{
 "cells": [
  {
   "attachments": {},
   "cell_type": "markdown",
   "metadata": {},
   "source": [
    "# Representation Matters"
   ]
  },
  {
   "attachments": {},
   "cell_type": "markdown",
   "metadata": {},
   "source": [
    "## Sampling Bias\n",
    "\n",
    "-   The sample is not representative of the population\n",
    "\n",
    "## Selection Bias\n",
    "\n",
    "## Survivorship Bias\n",
    "\n",
    "## Undercoverage Bias\n",
    "\n",
    "## Self-Selection Bias\n",
    "\n",
    "## Response Bias\n",
    "\n",
    "## Publication Bias\n",
    "\n",
    "## Reporting Bias\n",
    "\n",
    "## Experimenter's Bias"
   ]
  },
  {
   "attachments": {},
   "cell_type": "markdown",
   "metadata": {},
   "source": [
    "## Underrepresentation of minorities in clinical trials\n",
    "\n",
    "### Invisible Women \n",
    "\n"
   ]
  },
  {
   "attachments": {},
   "cell_type": "markdown",
   "metadata": {},
   "source": [
    "<!-- ## Minority Class as 1. Majority class as 0. -->"
   ]
  },
  {
   "attachments": {},
   "cell_type": "markdown",
   "metadata": {},
   "source": [
    "<!-- ## Weighted Cost Functions -->"
   ]
  },
  {
   "attachments": {},
   "cell_type": "markdown",
   "metadata": {},
   "source": [
    "<!-- ## Weighted Evaluation -->"
   ]
  },
  {
   "attachments": {},
   "cell_type": "markdown",
   "metadata": {},
   "source": [
    "<!-- ## Confusion matrix?  -->"
   ]
  }
 ],
 "metadata": {
  "language_info": {
   "name": "python"
  },
  "orig_nbformat": 4
 },
 "nbformat": 4,
 "nbformat_minor": 2
}
