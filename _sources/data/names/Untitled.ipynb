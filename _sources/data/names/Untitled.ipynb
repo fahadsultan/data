{
 "cells": [
  {
   "cell_type": "code",
   "execution_count": 26,
   "id": "ecbe639a",
   "metadata": {},
   "outputs": [
    {
     "name": "stdout",
     "output_type": "stream",
     "text": [
      "Fahad,M,49\n",
      "\n"
     ]
    }
   ],
   "source": [
    "filename = \"yob2022.txt\"\n",
    "file  = open(filename, 'r')\n",
    "lines = file.readlines()\n",
    "file.close()\n",
    "\n",
    "query = \"Fahad\"\n",
    "found = False\n",
    "i = 0\n",
    "while i < len(lines):\n",
    "    row = lines[i]\n",
    "    if query in row:\n",
    "        print(row)\n",
    "        found = True\n",
    "    i = i + 1\n",
    "\n",
    "if found == False:\n",
    "    print(\"Query not found\")"
   ]
  },
  {
   "cell_type": "code",
   "execution_count": 29,
   "id": "b42b7d2c",
   "metadata": {},
   "outputs": [],
   "source": [
    "import pandas as pd \n",
    "\n",
    "data = pd.read_csv('yob2022.txt', header=None, sep=',')\n",
    "data[data[0]==\"Fahad\"]"
   ]
  }
 ],
 "metadata": {
  "kernelspec": {
   "display_name": "Python 3 (ipykernel)",
   "language": "python",
   "name": "python3"
  },
  "language_info": {
   "codemirror_mode": {
    "name": "ipython",
    "version": 3
   },
   "file_extension": ".py",
   "mimetype": "text/x-python",
   "name": "python",
   "nbconvert_exporter": "python",
   "pygments_lexer": "ipython3",
   "version": "3.9.12"
  }
 },
 "nbformat": 4,
 "nbformat_minor": 5
}
