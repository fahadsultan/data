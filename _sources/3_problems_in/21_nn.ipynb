{
 "cells": [
  {
   "attachments": {},
   "cell_type": "markdown",
   "metadata": {},
   "source": [
    "# Nearest Neighbor"
   ]
  },
  {
   "attachments": {},
   "cell_type": "markdown",
   "metadata": {},
   "source": [
    "\n",
    "|                | Generative | Discriminative |\n",
    "|------------    |------------|----------------|\n",
    "| **Parametric**     |        |                |\n",
    "| **Non parameteric**|            |     ✅            |"
   ]
  }
 ],
 "metadata": {
  "language_info": {
   "name": "python"
  },
  "orig_nbformat": 4
 },
 "nbformat": 4,
 "nbformat_minor": 2
}
