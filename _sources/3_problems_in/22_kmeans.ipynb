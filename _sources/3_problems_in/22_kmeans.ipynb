{
 "cells": [
  {
   "attachments": {},
   "cell_type": "markdown",
   "metadata": {},
   "source": [
    "# Model: Gaussian Mixture Model "
   ]
  },
  {
   "attachments": {},
   "cell_type": "markdown",
   "metadata": {},
   "source": [
    "* Generative Model\n",
    "\n",
    "* Parametric Model\n",
    "\n",
    "|                | Generative | Discriminative |\n",
    "|------------    |------------|----------------|\n",
    "| **Parametric**     |  ✅       |                |\n",
    "| **Non parameteric**|            |                |"
   ]
  },
  {
   "attachments": {},
   "cell_type": "markdown",
   "metadata": {},
   "source": [
    "\n",
    "1. How is Nearest Neighbor even an algorithm? \n",
    "2. Are all regression models generative? "
   ]
  }
 ],
 "metadata": {
  "language_info": {
   "name": "python"
  },
  "orig_nbformat": 4
 },
 "nbformat": 4,
 "nbformat_minor": 2
}
