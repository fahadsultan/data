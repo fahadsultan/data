{
 "cells": [
  {
   "attachments": {},
   "cell_type": "markdown",
   "metadata": {},
   "source": [
    "# Unsupervised Learning"
   ]
  },
  {
   "attachments": {},
   "cell_type": "markdown",
   "metadata": {},
   "source": [
    "<br/>\n",
    "\n",
    "In contrast to supervised learning, in **unsupervised learning** there are **no available labels** in the dataset. The **goal** of unsupervised learning is to **_\"infer\"_ labels**. This is done by **learning the structure** of the data by analyzing **how different observations (rows) relate to one another**. \n",
    "\n",
    "In the figure below, the **top row** shows the **inputs** to supervised and unsupervised learning problems. Note that points in the top right panel are colored based on available labels. In contrast, the panel in top left shows the same data, but without labels. \n",
    "\n",
    "<center><img width=\"60%\" src=\"https://www.researchgate.net/publication/351953193/figure/fig3/AS:11431281117150742@1675395484096/Supervised-and-unsupervised-machine-learning-a-Schematic-representation-of-an.png\"></center>\n",
    "\n",
    "<br/>\n",
    "\n",
    "The **bottom row** shows the **outputs** of the two problems. Note that supervised learning (right column) uses the labels to infer the underlying distributions so that a new incoming point could be categorized into one of the two labels. Unsupervised learning, in contrast, infers the structure of the data, and **assigns labels** to the data **based on the inferred structure**. This structure is captured by relative proximity or distances of observations to each other, not too differently from nearest neighbor.\n",
    "\n",
    "Note that in unsupervised learning, there is no need to split the data into training and test sets. This is because there are no labels to predict. Instead, the goal is to learn the structure of the data, and then use this structure to infer labels for new data points."
   ]
  }
 ],
 "metadata": {
  "kernelspec": {
   "display_name": "base",
   "language": "python",
   "name": "python3"
  },
  "language_info": {
   "codemirror_mode": {
    "name": "ipython",
    "version": 3
   },
   "file_extension": ".py",
   "mimetype": "text/x-python",
   "name": "python",
   "nbconvert_exporter": "python",
   "pygments_lexer": "ipython3",
   "version": "3.9.12"
  },
  "orig_nbformat": 4
 },
 "nbformat": 4,
 "nbformat_minor": 2
}
