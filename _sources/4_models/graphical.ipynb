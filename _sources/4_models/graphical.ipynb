{
 "cells": [
  {
   "attachments": {},
   "cell_type": "markdown",
   "metadata": {},
   "source": [
    "# Graphical Models"
   ]
  },
  {
   "attachments": {},
   "cell_type": "markdown",
   "metadata": {},
   "source": [
    "Probabilistic Graphical models, also known as Bayesian networks, are a family of probabilistic models for which a graph is used to express the conditional dependence structure between random variables. They are commonly used in probability theory, statistics - particularly Bayesian statistics - and machine learning.\n",
    "\n",
    "<img align=\"center\" src=\"../assets/pgm.jpeg\" width=\"60%\">\n",
    "\n",
    "Popular examples of probabilistic graphical models include Naive Bayes, Markov Chains and Hidden Markov Models."
   ]
  }
 ],
 "metadata": {
  "language_info": {
   "name": "python"
  },
  "orig_nbformat": 4
 },
 "nbformat": 4,
 "nbformat_minor": 2
}
