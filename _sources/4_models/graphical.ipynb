{
 "cells": [
  {
   "attachments": {},
   "cell_type": "markdown",
   "metadata": {},
   "source": [
    "# Graphical Models"
   ]
  },
  {
   "attachments": {},
   "cell_type": "markdown",
   "metadata": {},
   "source": [
    "Specifying a joint distribution over even a handful of random variables can become very daunting very fast. When we consider the fact that a typical medical- diagnosis problem has dozens or even hundreds of relevant attributes, the problem appears completely intractable. \n",
    "\n",
    "<img align=\"right\" src=\"../assets/pgm.jpeg\" width=\"65%\">\n",
    "\n",
    "**Probabilistic graphical models**, also known as Bayesian networks, provide a framework for exploiting structure in complex distributions so they can be described compactly, and in a way that allows them to be constructed and utilized effectively.\n",
    "\n",
    "Probabilistic graphical models use a **graph-based representation as the basis for compactly encoding a complex distribution** over a high-dimensional space. In this graphical representation, the nodes (or ovals) correspond to the variables in our domain, and the edges correspond to direct **probabilistic dependencies** between the connected variables.\n",
    "\n",
    "Popular examples of probabilistic graphical models include Naive Bayes, Markov Chains and Hidden Markov Models."
   ]
  },
  {
   "cell_type": "markdown",
   "metadata": {},
   "source": []
  }
 ],
 "metadata": {
  "language_info": {
   "name": "python"
  },
  "orig_nbformat": 4
 },
 "nbformat": 4,
 "nbformat_minor": 2
}
