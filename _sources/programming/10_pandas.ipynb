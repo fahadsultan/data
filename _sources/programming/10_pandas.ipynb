{
 "cells": [
  {
   "attachments": {},
   "cell_type": "markdown",
   "metadata": {},
   "source": [
    "# `pandas`"
   ]
  },
  {
   "attachments": {},
   "cell_type": "markdown",
   "metadata": {},
   "source": [
    "Computer programming, at its core, is the task of **combining simple ideas to form ever more complex ideas**. \n",
    "\n",
    "To that end, every programming language supports the following three mechanisms:\n",
    "\n",
    "* **Primitive elements**, which represent the simplest building blocks that the language provides \n",
    "    * For example: variables and native data types\n",
    "\n",
    "* **Means of combination**, by which compound _elements_ are built from simpler ones\n",
    "    * For example: mathematical and logical operators \n",
    "\n",
    "* **Means of abstraction**, by which compound _elements_ can be named and manipulated as units \n",
    "    * For example: functions, classes \n",
    "\n",
    "The most essential _element_ is **Data**: the quantities, characters, or symbols on which operations are performed by a computer, being stored and transmitted in the form of electrical signals and recorded on magnetic, optical, or mechanical recording media."
   ]
  },
  {
   "attachments": {},
   "cell_type": "markdown",
   "metadata": {},
   "source": [
    "```{tableofcontents}\n",
    "```"
   ]
  },
  {
   "cell_type": "markdown",
   "metadata": {},
   "source": []
  }
 ],
 "metadata": {
  "language_info": {
   "name": "python"
  },
  "orig_nbformat": 4
 },
 "nbformat": 4,
 "nbformat_minor": 2
}
