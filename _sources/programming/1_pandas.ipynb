{
 "cells": [
  {
   "attachments": {},
   "cell_type": "markdown",
   "metadata": {
    "id": "7FPBAw87HBeT",
    "slideshow": {
     "slide_type": "slide"
    }
   },
   "source": [
    "# Pandas: Vectors and Matrices"
   ]
  },
  {
   "cell_type": "markdown",
   "metadata": {
    "slideshow": {
     "slide_type": "skip"
    }
   },
   "source": [
    "<hr/>"
   ]
  },
  {
   "cell_type": "markdown",
   "metadata": {
    "slideshow": {
     "slide_type": "slide"
    }
   },
   "source": [
    "## Native Data Structures in Python"
   ]
  },
  {
   "cell_type": "markdown",
   "metadata": {
    "slideshow": {
     "slide_type": "fragment"
    }
   },
   "source": [
    "\n",
    "Type | Collection | Syntax | Ordered | Indexed | Mutable | Passed By | Duplicates Allowed \n",
    ":------------: | :-------------:|:-------------:|:-------------:|:-------------:| :-------------:| :-------------:|:-------------:\n",
    "`strings` | characters | `\"c1c2c3\"` | &check; |&check; | &cross; | value | &check;\n",
    "`list` | any data type | `[v1, v2.. vn]` | &check; |&check; |  &check; | reference | &check;\n",
    "`tuple` | any data type | `(v1, v2.. vn)` | &check; | &check; |  &cross; | value | &check;\n",
    "`set` | immutable types | `{v1, v2.. vn}` | &cross; | &cross; |  &cross; | value | &cross;\n",
    "`dictionaries` | any data type * | `{k1:v1,k2:v2.. kn:vn}` | &cross; | &check; |  &check; | reference | &cross;\\**\n",
    "\n",
    "\\* _**keys** can only be immutable type; **values** can be any data type_ \\\n",
    "\\** _**keys** can not be duplicate; **values** can be duplicate_"
   ]
  },
  {
   "cell_type": "markdown",
   "metadata": {
    "slideshow": {
     "slide_type": "skip"
    }
   },
   "source": [
    "<br/>\n",
    "<hr/>\n",
    "<br/>"
   ]
  },
  {
   "cell_type": "markdown",
   "metadata": {
    "slideshow": {
     "slide_type": "slide"
    }
   },
   "source": [
    "* Four basic operations **(CRUD)**: \n",
    "\n",
    "1. **Create** (aka initialization)\n",
    "2. **Read** (aka get element)\n",
    "3. **Update** (aka append, insert, change, push)\n",
    "4. **Delete** (aka remove, pop)"
   ]
  },
  {
   "cell_type": "markdown",
   "metadata": {
    "slideshow": {
     "slide_type": "slide"
    }
   },
   "source": [
    "\n",
    "\n",
    "Type | Create | Read | Update | Delete | \n",
    ":---: | :---:|:---:|:---:|:----:| \n",
    "`strings` | `foo = \"c1c2c3\"` | `foo[idx]` |  **N/A**<br/>_`foo.replace(val1, val2)`_ | <span style=\"{color:red}\">**N/A**</span><br/>_`foo.replace(val, \"\")`_\n",
    "`list` | `foo = [v1, v2.. vn]`  | `foo[idx]` | `foo[idx] = val` |`foo.remove(val)` or `foo.pop(idx)`\n",
    "`tuple` | `foo = (v1, v2.. vn)` | `foo[idx]` | **N/A**<br/>_Convert to list_ | **N/A**<br/>_Convert to list_ |  &cross; | value | &check;\n",
    "`set` |  `foo = {v1, v2.. vn}` | **N/A**<br/>_`val in foo`_ | **N/A** | `foo.pop()` or `foo.remove()` | \n",
    "`dictionaries` | `foo = {k1:v1,.. kn:vn}` | `foo[key]` | `foo[key] = val` | `foo.pop(key)` | "
   ]
  },
  {
   "cell_type": "markdown",
   "metadata": {
    "slideshow": {
     "slide_type": "slide"
    }
   },
   "source": [
    "\n",
    "\n",
    "Type | Create | Read | Update | Delete | \n",
    ":---: | :---:|:---:|:---:|:----:| \n",
    "`strings` | `\"c1c2c3\"` | `foo[idx]` |  **N/A**<br/><br/>_`foo.replace(v1, v2)`_ | **N/A**<br/><br/>_`foo.replace(val, \"\")`_\n",
    "`list` | `[v1,.. vn]`  | `foo[idx]` | `foo[idx] = val` |`foo.remove(val)` or `foo.pop(idx)`\n",
    "`tuple` | `(v1,.. vn)` | `foo[idx]` | **N/A**<br/><br/>_Convert to list_ | **N/A**<br/><br/>_Convert to list_ |  &cross; | value | &check;\n",
    "`set` |  `{v1,.. vn}` | **N/A**<br/><br/>_`val in foo`_ | **N/A** | `foo.pop()` or `foo.remove()` | \n",
    "`dictionaries` | `{k1:v1,.. kn:vn}` | `foo[key]` | `foo[key] = val` | `foo.pop(key)` | "
   ]
  },
  {
   "cell_type": "markdown",
   "metadata": {
    "slideshow": {
     "slide_type": "slide"
    }
   },
   "source": [
    "\n",
    "\n",
    "Type | Create | Insert | Read | Update | Delete | \n",
    ":---: | :---:|:---:|:---:|:---:|:----:| \n",
    "`strings` | `\"c1c2c3\"` | `foo + \"a\"`| `foo[idx]` |  **N/A** | **N/A**\n",
    "`list` | `[v1,.. vn]`  | `foo.append(val)` | `foo[idx]` | `foo[idx] = val` |`foo.remove(val)`\n",
    "`tuple` | `(v1,.. vn)` | **N/A** | `foo[idx]` | **N/A** | **N/A** |  &cross; | value | &check;\n",
    "`set` |  `{v1,.. vn}` | `foo.add(val)` | **N/A** | **N/A** | `foo.remove(val)` | \n",
    "`dictionaries` | `{k1:v1,.. kn:vn}` | `foo[key] = val` | `foo[key]` | `foo[key] = val` | `foo.pop(key)` | "
   ]
  },
  {
   "cell_type": "markdown",
   "metadata": {},
   "source": [
    "<hr/>"
   ]
  },
  {
   "attachments": {},
   "cell_type": "markdown",
   "metadata": {
    "slideshow": {
     "slide_type": "slide"
    }
   },
   "source": [
    "## `pandas`\n",
    "\n",
    "\n",
    "* `pandas` is a powerful Python library used for **data science**.\n",
    "\n",
    "\n",
    "* It has functions for **analyzing**, **cleaning**, **exploring**, and **manipulating data**.\n",
    "\n",
    "\n",
    "* All modern **Machine Learning** and **Deep Learning** store and manipulate data in a manner similar to that in `pandas`. \n",
    "<br/>"
   ]
  },
  {
   "cell_type": "markdown",
   "metadata": {
    "slideshow": {
     "slide_type": "slide"
    }
   },
   "source": [
    "* The following `import` convention is used for pandas:"
   ]
  },
  {
   "cell_type": "code",
   "execution_count": null,
   "metadata": {
    "slideshow": {
     "slide_type": "-"
    }
   },
   "outputs": [],
   "source": [
    "import pandas as pd"
   ]
  },
  {
   "cell_type": "markdown",
   "metadata": {},
   "source": [
    "* Thus, whenever you see `pd.` in code, it’s referring to `pandas`."
   ]
  },
  {
   "attachments": {},
   "cell_type": "markdown",
   "metadata": {
    "slideshow": {
     "slide_type": "slide"
    }
   },
   "source": [
    "## Data Structures in `pandas`"
   ]
  },
  {
   "cell_type": "markdown",
   "metadata": {},
   "source": [
    "* To get started with pandas, you will need to get comfortable with its two workhorse **data structures**: \n",
    "\n",
    "1. **`pd.Series`**\n",
    "\n",
    "\n",
    "2. **`pd.DataFrame`**\n",
    "\n",
    "* While they are not a universal solution for every problem, they provide a solid foundation for a wide variety of data tasks."
   ]
  },
  {
   "cell_type": "markdown",
   "metadata": {
    "slideshow": {
     "slide_type": "slide"
    }
   },
   "source": [
    "## `pd.Series`"
   ]
  },
  {
   "cell_type": "markdown",
   "metadata": {},
   "source": [
    "* A Series is a one-dimensional array-like object containing a sequence of values \n",
    "\n",
    "\n",
    "* Of the same type and an associated array of data labels, called its index. \n",
    "\n",
    "\n",
    "* The simplest Series is formed from only an array of data:"
   ]
  },
  {
   "cell_type": "code",
   "execution_count": null,
   "metadata": {},
   "outputs": [],
   "source": [
    "obj = pd.Series([4, 7, -5, 3])\n",
    "\n",
    "obj"
   ]
  },
  {
   "cell_type": "markdown",
   "metadata": {},
   "source": [
    "* The Series printed above shows the **index on the left** and the **values on the right**. \n",
    "\n",
    "\n",
    "* Since **we did not specify an index** for the data, a **default index** consisting of the **integers 0 through N - 1** (where N is the length of the data) is created."
   ]
  },
  {
   "cell_type": "markdown",
   "metadata": {
    "slideshow": {
     "slide_type": "slide"
    }
   },
   "source": [
    "* You can get the index object of a Series via its `index` attribute:"
   ]
  },
  {
   "cell_type": "code",
   "execution_count": null,
   "metadata": {},
   "outputs": [],
   "source": [
    "obj.index"
   ]
  },
  {
   "cell_type": "markdown",
   "metadata": {},
   "source": [
    "* You can get the array representation of the Series via its `values` attribute:"
   ]
  },
  {
   "cell_type": "code",
   "execution_count": null,
   "metadata": {},
   "outputs": [],
   "source": [
    "obj.values"
   ]
  },
  {
   "cell_type": "markdown",
   "metadata": {},
   "source": [
    "* The result of these attributes often returns an object of data type internal to `pandas`. It is often a good idea to cast these to lists using `list(..)`"
   ]
  },
  {
   "cell_type": "code",
   "execution_count": null,
   "metadata": {},
   "outputs": [],
   "source": [
    "list(obj.index), list(obj.values)"
   ]
  },
  {
   "cell_type": "markdown",
   "metadata": {},
   "source": [
    "* Often, you'll want to create a Series with an index identifying each data point with a label:"
   ]
  },
  {
   "cell_type": "code",
   "execution_count": null,
   "metadata": {},
   "outputs": [],
   "source": [
    "obj2 = pd.Series([4, 7, -5, 3], index=[\"d\", \"b\", \"a\", \"c\"])\n",
    "\n",
    "obj2"
   ]
  },
  {
   "cell_type": "code",
   "execution_count": null,
   "metadata": {},
   "outputs": [],
   "source": [
    "obj"
   ]
  },
  {
   "cell_type": "markdown",
   "metadata": {},
   "source": [
    "## Filtering using Boolean Maps"
   ]
  },
  {
   "cell_type": "code",
   "execution_count": null,
   "metadata": {},
   "outputs": [],
   "source": []
  },
  {
   "cell_type": "markdown",
   "metadata": {},
   "source": [
    "`pd.Series` as a Vector"
   ]
  },
  {
   "cell_type": "markdown",
   "metadata": {
    "id": "k0WSeKooZfUP",
    "slideshow": {
     "slide_type": "slide"
    }
   },
   "source": [
    "# The data science pipeline"
   ]
  },
  {
   "cell_type": "markdown",
   "metadata": {
    "id": "InalkPRQaDux"
   },
   "source": [
    "\n",
    "\n",
    "1.   Get or collect data\n",
    "2.   Manipulate and process data\n",
    "3.   Modeling and analysis\n",
    "4.   Visualize, evaluate, present, and communicate\n",
    "\n"
   ]
  }
 ],
 "metadata": {
  "colab": {
   "provenance": [],
   "toc_visible": true
  },
  "kernelspec": {
   "display_name": "Python 3 (ipykernel)",
   "language": "python",
   "name": "python3"
  },
  "language_info": {
   "codemirror_mode": {
    "name": "ipython",
    "version": 3
   },
   "file_extension": ".py",
   "mimetype": "text/x-python",
   "name": "python",
   "nbconvert_exporter": "python",
   "pygments_lexer": "ipython3",
   "version": "3.9.12"
  }
 },
 "nbformat": 4,
 "nbformat_minor": 1
}
