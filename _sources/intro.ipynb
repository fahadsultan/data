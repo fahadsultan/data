{
 "cells": [
  {
   "cell_type": "markdown",
   "metadata": {},
   "source": [
    "# Introduction "
   ]
  },
  {
   "attachments": {},
   "cell_type": "markdown",
   "metadata": {
    "slideshow": {
     "slide_type": "slide"
    }
   },
   "source": [
    "## About Me\n",
    "\n",
    "**Name**:  Syed Fahad Sultan\n",
    "\n",
    "سید فہد سلطان\n",
    "\n",
    "**Pronunciation**:  sæjjɪd fah(aː)d  solˈtˤɑːn\n",
    "\n",
    "_Just call me **“Dr. Sultan”**_ (Pronounced: Sool-tahn [🔈](https://upload.wikimedia.org/wikipedia/commons/c/cd/LL-Q9292_%28aze%29-Azerbaijani_audiorecordings-sultan.wav))\n",
    "\n",
    "<!-- \n",
    ":::{figure-md} markdown-fig\n",
    "\n",
    "<img src=\"assets/name.png\" alt=\"name\" class=\"bg-primary mb-1\" width=\"50%\">\n",
    "\n",
    "::: -->\n",
    "\n",
    "```{figure} assets/name.png\n",
    "---\n",
    "scale: 50%\n",
    "align: center\n",
    "---\n",
    "Names work differently in different parts of the world!\n",
    "``` "
   ]
  },
  {
   "attachments": {},
   "cell_type": "markdown",
   "metadata": {
    "slideshow": {
     "slide_type": "slide"
    }
   },
   "source": [
    "I am originally from [Lahore, Pakistan](https://en.wikipedia.org/wiki/Lahore)\n",
    "\n",
    "    (_Fun fact: Population of Lahore > Population of New York City_)\n",
    "\n",
    "I joined Furman University in Fall 2022 after earning my Ph.D. in Computer Science from State University of New York at Stony Brook.\n",
    "\n",
    "```{figure} assets/lahore.png\n",
    "---\n",
    "width: 80%\n",
    "align: center\n",
    "---\n",
    "Badshahi Mosque, Lahore\n",
    "``` \n",
    "\n",
    "Fresh out of college, I worked as a professional video game developer for a startup that later got acquired by the Japanese gaming giant DeNA. During this time, I was part of the team that built TapFish, the top-grossing game worldwide, for two weeks in 2011, on both the App Store and Google Play.\n",
    "\n",
    "I then went on to work at Technology for People Initiative, an applied research lab in my where I mined social media and cell phone data for proxies of socio-economic indicators that allowed more inclusive policy-making for marginalized communities. During these years, I also dabbled in data journalism and helped organize a boot camp on using data for journalists with the support of the International Center for Journalists (ICFJ) and the Knight Foundation.\n",
    "\n",
    "In 2015, Fahad moved to Mecca, Saudi Arabia to work for the GIS Innovation Center. There he worked on innovative urban sensing techniques for better crowd control during the annual pilgrimage to the city, the largest human gathering in the world every year.\n",
    "\n",
    "During my PhD, Fahad worked at the intersection of computational neuroscience, bioinformatics and machine learning. My work focused on identifying neurological and genetic biomarkers linking type-2 diabetes with cognitive disorders such as Alzheimer's and other dementias.\n"
   ]
  },
  {
   "cell_type": "markdown",
   "metadata": {},
   "source": [
    "\n",
    "```{figure} assets/tapfish.png\n",
    "---\n",
    "width: 80%\n",
    "align: center\n",
    "---\n",
    "TapFish\n",
    "``` "
   ]
  },
  {
   "attachments": {},
   "cell_type": "markdown",
   "metadata": {},
   "source": [
    "## Teaching Assistant\n",
    "\n",
    "* Mister Cat\n",
    "\n",
    "\n",
    "```{figure} assets/mister.png\n",
    "---\n",
    "width: 80%\n",
    "align: center\n",
    "---\n",
    "TapFish\n",
    "``` "
   ]
  },
  {
   "cell_type": "markdown",
   "metadata": {},
   "source": []
  },
  {
   "cell_type": "markdown",
   "metadata": {},
   "source": []
  },
  {
   "attachments": {},
   "cell_type": "markdown",
   "metadata": {
    "slideshow": {
     "slide_type": "slide"
    }
   },
   "source": [
    "\n",
    "## How to Reach Me\n",
    "\n",
    "<!-- <center><img align=\"right\" width=\"35%\" style=\"float:right\" src=\"assets/office.png\"></center> -->\n",
    "\n",
    "**Office**: Riley Hall 200-D\n",
    "\n",
    "**Email**: fahad.sultan@furman.edu\n",
    "\n",
    "**Office hours**: \n",
    "\n",
    "Monday:   1:30 PM – 4:30 PM\n",
    "\n",
    "Thursday: 8:30 AM – 11:30 AM \n",
    "\n",
    "_Drop by office, for any other time_\n",
    "\n",
    "**Open door policy**, when not in class or meeting\n",
    "OR\n",
    "Email to schedule time\n",
    "\n",
    "\n",
    "```{figure} assets/office.png\n",
    "---\n",
    "scale: 50%\n",
    "align: center\n",
    "---\n",
    "Computer Science Department Suite in Riley Hall.\n",
    "``` \n"
   ]
  },
  {
   "attachments": {},
   "cell_type": "markdown",
   "metadata": {},
   "source": [
    "\n",
    "## Course Week\n",
    "\n",
    "```{figure} assets/week.png\n",
    "---\n",
    "width: 80%\n",
    "align: center\n",
    "---\n",
    "Course week\n",
    "``` \n"
   ]
  },
  {
   "cell_type": "markdown",
   "metadata": {},
   "source": [
    "## Grade Breakdown\n",
    "| Component | Percentage |\n",
    "|---------|------|\n",
    "| Project | 30% |\n",
    "| Exam 1  | 10% |\n",
    "| Exam 2  | 10% |\n",
    "| Exam 3  | 10% |\n",
    "| Exam 4   | 10% |\n",
    "| Written Assignments | 10% |\n",
    "| Programming Assignments | 10% |\n",
    "| Class Participation | 10% |\n",
    "| Data Fest | 10% (bonus) |"
   ]
  },
  {
   "attachments": {},
   "cell_type": "markdown",
   "metadata": {
    "slideshow": {
     "slide_type": "slide"
    }
   },
   "source": [
    "\n",
    "## About the Course\n",
    "\n",
    "Computer Science is the confluence of mathematics, algorithms, software (programming), and hardware.\n",
    "\n",
    "In this course, with the exception of hardware, we will summon all of these to study data mining. \n",
    "\n",
    "Course website:\n",
    " \n",
    "https://fahadsultan.com/datascience_ml\n",
    "\n",
    "All of the content will be posted on the course website\n",
    "\n",
    "Some might also be uploaded on Moodle, as needed/requested\n",
    "\n",
    "All electronic submissions on Moodle \n",
    "\n",
    "All physical submissions in-person or office. \n",
    "\n",
    "## Assignments \n",
    "\n",
    "Approach assignments purely as opportunities to:\n",
    "\n",
    "* Learn\n",
    "\n",
    "* Prepare for Career/Grad School\n",
    "\n",
    "* Prepare for Exams\n",
    "\n",
    "* Find the joy in the course material!\n",
    "\n",
    "Expect near maximum flexibility from me\n",
    "\n",
    "* Soft deadlines: Weekly\n",
    "\n",
    "* Hard deadlines: Before next Exam\n",
    "\n",
    "## Written Assignment\n",
    "\n",
    "These would build on your understanding of algorithms covered in class\n",
    "\n",
    "Would generally involve tracing algorithms and dry-runs. May involve math. \n",
    "\n",
    "Expect similar questions on the exams\n",
    "\n",
    "Both handwritten or typed submissions are acceptable \n",
    "\n",
    "Submit soft copy on Moodle\n",
    "\n",
    "\n",
    "\n",
    "\n",
    "### Math \n",
    "\n",
    "### Programming \n",
    "\n",
    "## Project\n",
    "\n",
    "## What is Data Mining?\n",
    "\n",
    "## Data Modalities "
   ]
  },
  {
   "attachments": {},
   "cell_type": "markdown",
   "metadata": {},
   "source": [
    "## * Tentative Plan, subject to change\n",
    "\n",
    "* This is my first teaching this course \n",
    "\n",
    "* **Any and all feedback** is welcome! \n",
    "\n",
    "* “Feedback (Anonymous)” on **Moodle**\n",
    " \n",
    "* **Anonymously** share any feedback\n",
    " \n",
    "* Share **any changes** you want me to make in the course\n",
    "\n",
    "* At any point in the semester. \n",
    "\n",
    "* You can submit multiple times over the span of the semester.  \n",
    "\n",
    "* Think of it as a **Complaints Box** for the course \n",
    "\n",
    "\n",
    "```{figure} assets/complaints.png\n",
    "---\n",
    "width: 80%\n",
    "align: center\n",
    "---\n",
    "Complaints Box\n",
    "``` \n"
   ]
  },
  {
   "attachments": {},
   "cell_type": "markdown",
   "metadata": {},
   "source": [
    "## Assignment 0\n",
    "\n",
    "0. Go over course syllabus\n",
    "\n",
    "    * Course website homepage\n",
    "\n",
    "    * This slide deck\n",
    "\n",
    "1. Written Assignment 0: Pre-course Survey  (On Moodle)\n",
    "\n",
    "    * Please complete before next class\n",
    "\n",
    "2. Programming Assignment 0: Set up Anaconda and Jupyter Notebook environment\n",
    "\n",
    "    * Please complete before next lab \n",
    " \n"
   ]
  }
 ],
 "metadata": {
  "celltoolbar": "Slideshow",
  "kernelspec": {
   "display_name": "Python 3 (ipykernel)",
   "language": "python",
   "name": "python3"
  },
  "language_info": {
   "codemirror_mode": {
    "name": "ipython",
    "version": 3
   },
   "file_extension": ".py",
   "mimetype": "text/x-python",
   "name": "python",
   "nbconvert_exporter": "python",
   "pygments_lexer": "ipython3",
   "version": "3.9.12"
  }
 },
 "nbformat": 4,
 "nbformat_minor": 2
}
