{
 "cells": [
  {
   "attachments": {},
   "cell_type": "markdown",
   "metadata": {},
   "source": [
    "# Collecting Data"
   ]
  },
  {
   "attachments": {},
   "cell_type": "markdown",
   "metadata": {},
   "source": [
    "Collecting data is the first step in the data science process. It is the process of gathering data from various sources. The data can be structured or unstructured. The data can be collected from various sources like databases, web, sensors, etc. The data can be collected in various formats like CSV, JSON, XML, etc. The data can be collected using various tools like Python, R, etc.\n",
    "\n",
    "In this section, we will go over two ways of collecting data: \n",
    "\n",
    "1. Using an API\n",
    "2. Using a Web Scraper\n",
    "\n",
    "Both of the methods above rely on the internet to collect data. This requires knowing how to use Python to make requests to the internet. We will go over this in the next section and understand the basic architecture of the internet."
   ]
  },
  {
   "attachments": {},
   "cell_type": "markdown",
   "metadata": {},
   "source": [
    "## Architecture of the Internet"
   ]
  },
  {
   "attachments": {},
   "cell_type": "markdown",
   "metadata": {},
   "source": [
    "The basic architecture of the internet is the client-server architecture. The client is the computer that makes the request to the server. The server is the computer that responds to the request. The client and server communicate using the HTTP protocol. The client sends a request to the server using the HTTP protocol. The server responds to the request using the HTTP. This communication is done using the TCP/IP protocol. \n",
    "\n",
    "The client and server can be any computer. \n",
    "\n",
    "A server is a computer generally located in a data center. A data center is a building that houses many computers. The data center is connected to the internet. The server is connected to the internet. The client is also connected to the internet.\n",
    "\n",
    "The server is generally a web server, database server, etc. The client can be a web browser, mobile app, etc. "
   ]
  },
  {
   "attachments": {},
   "cell_type": "markdown",
   "metadata": {},
   "source": [
    "### Client Server model"
   ]
  },
  {
   "attachments": {},
   "cell_type": "markdown",
   "metadata": {},
   "source": [
    "### HTTP\n",
    "\n",
    "HTTP stands for Hyper Text Transfer Protocol. It is a protocol that is used to transfer hypertext over the internet.\n",
    "\n",
    "HTTP status codes are used to indicate the status of the request. The status codes are in the range 100 to 599. The status codes in the range 100 to 199 are informational. The status codes in the range 200 to 299 are success codes. The status codes in the range 300 to 399 are redirection codes. The status codes in the range 400 to 499 are client error codes. The status codes in the range 500 to 599 are server error codes.\n",
    "\n",
    "The most common status codes are 200, 404, and 500. The status code 200 means that the request was successful. The status code 404 means that the resource was not found. The status code 500 means that there was an internal server error.\n",
    "\n",
    "### URL\n",
    "\n",
    "URL stands for Uniform Resource Locator. It is a string that identifies a resource on the internet. It is written in the form of a protocol, domain name, and path. The protocol is the protocol used to access the resource. The domain name is the name of the server that hosts the resource. The path is the path to the resource on the server.\n",
    "\n",
    "### HTML\n",
    "\n",
    "HTML stands for HyperText Markup Language. It is a markup language that is used to create web pages. \n",
    "\n",
    "Structure of an HTML document:\n",
    "\n",
    "```html\n",
    "<!DOCTYPE html>\n",
    "<html>\n",
    "<head>\n",
    "<title>Page Title</title>\n",
    "</head>\n",
    "<body>\n",
    "<h1>Heading</h1>\n",
    "<p>Paragraph</p>\n",
    "</body>\n",
    "</html>\n",
    "```\n",
    "\n",
    "### TCP/IP\n",
    "\n",
    "TCP/IP stands for Transmission Control Protocol/Internet Protocol. It is a protocol that is used to transfer data over the internet.\n",
    "\n",
    "### IP Address\n",
    "\n",
    "An IP address is a unique number that identifies a computer on the internet. It is a 32-bit number. It is written in the form of four numbers separated by dots. Each number is between 0 and 255.\n",
    "\n",
    "### Hypertext\n",
    "\n",
    "HyperText is text that contains links to other text. The links are called hyperlinks. The text containing the links is called hypertext. The hypertext is displayed in a web browser."
   ]
  },
  {
   "attachments": {},
   "cell_type": "markdown",
   "metadata": {},
   "source": [
    "## Requesting and Parsing Content"
   ]
  },
  {
   "attachments": {},
   "cell_type": "markdown",
   "metadata": {},
   "source": [
    "### `requests`"
   ]
  },
  {
   "attachments": {},
   "cell_type": "markdown",
   "metadata": {},
   "source": [
    "requests library is a Python library that is used to make HTTP requests. It is a third-party library. It is not part of the Python standard library. It is installed using the pip command. It is imported using the import statement.\n",
    "\n",
    "An HTTP request is made using the requests.get() function. The requests.get() function takes a URL as an argument. The requests.get() function returns a response object. The response object contains the response from the server. The response object has a status code. The status code is a number that indicates the status of the request. The status code is 200 if the request is successful. The status code is 404 if the request is not found. The status code is 500 if there is an internal server error.\n",
    "\n",
    "### `BeautifulSoup`\n",
    "\n",
    "BeautifulSoup is a Python library that is used to parse HTML. It is a third-party library. It is not part of the Python standard library. It is installed using the pip command. It is imported using the import statement."
   ]
  },
  {
   "attachments": {},
   "cell_type": "markdown",
   "metadata": {},
   "source": [
    "### `beautifulsoup`"
   ]
  }
 ],
 "metadata": {
  "language_info": {
   "name": "python"
  },
  "orig_nbformat": 4
 },
 "nbformat": 4,
 "nbformat_minor": 2
}
