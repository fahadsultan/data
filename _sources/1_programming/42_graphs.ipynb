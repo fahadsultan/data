{
 "cells": [
  {
   "attachments": {},
   "cell_type": "markdown",
   "metadata": {},
   "source": [
    "# Graphs "
   ]
  },
  {
   "attachments": {},
   "cell_type": "markdown",
   "metadata": {},
   "source": [
    "Graphs are a data structure that consists of a set of nodes (vertices) and a set of edges that relate the nodes to each other. The set of edges describes relationships among the vertices. Graphs are used to model many real-world systems, including computer networks, social networks, and transportation systems.\n",
    "\n",
    "Graphs are a very general structure, so they can be used to model many different kinds of systems. The nodes and edges can have any kind of data associated with them. For example, a graph could be used to represent a social network, where the nodes are people and the edges are friendships. The nodes could have additional data associated with them, such as the person's name, age, and hometown. The edges could have additional data associated with them, such as the date the friendship began."
   ]
  },
  {
   "attachments": {},
   "cell_type": "markdown",
   "metadata": {},
   "source": [
    "## Matrix Representations"
   ]
  },
  {
   "attachments": {},
   "cell_type": "markdown",
   "metadata": {},
   "source": [
    "There are two common ways to represent a graph as a matrix. The first way is to use an adjacency matrix, which is a matrix where each row and column represents a vertex. If there is an edge from vertex $i$ to vertex $j$, then the entry in row $i$ and column $j$ is 1. Otherwise, the entry is 0. For example, the following matrix represents a graph with 4 vertices and 4 edges:\n",
    "\n",
    "$$\n",
    "\\begin{bmatrix}\n",
    "0 & 1 & 0 & 1 \\\\\n",
    "1 & 0 & 1 & 0 \\\\\n",
    "0 & 1 & 0 & 1 \\\\\n",
    "1 & 0 & 1 & 0 \\\\\n",
    "\\end{bmatrix}\n",
    "$$\n",
    "\n"
   ]
  },
  {
   "attachments": {},
   "cell_type": "markdown",
   "metadata": {},
   "source": [
    "### Edge List"
   ]
  },
  {
   "attachments": {},
   "cell_type": "markdown",
   "metadata": {},
   "source": [
    "The second way to represent a graph as a matrix is to use an edge list. An edge list is a list of pairs of vertices that are connected by an edge. For example, the following edge list represents the same graph as the adjacency matrix above:\n",
    "\n",
    "$$\n",
    "\\begin{bmatrix}\n",
    "0 & 1 \\\\\n",
    "0 & 3 \\\\\n",
    "1 & 2 \\\\\n",
    "2 & 3 \\\\\n",
    "\\end{bmatrix}\n",
    "$$"
   ]
  },
  {
   "attachments": {},
   "cell_type": "markdown",
   "metadata": {},
   "source": [
    "### Adjacency Matrix"
   ]
  },
  {
   "attachments": {},
   "cell_type": "markdown",
   "metadata": {},
   "source": [
    "## `networkx`"
   ]
  },
  {
   "attachments": {},
   "cell_type": "markdown",
   "metadata": {},
   "source": [
    "networkx is a Python library for working with graphs. It provides functions for creating graphs, adding nodes and edges to graphs, and traversing graphs. It also provides functions for computing various properties of graphs, such as the shortest path between two nodes.\n",
    "\n",
    "### Creating Graphs\n",
    "\n",
    "To create a graph, use the `Graph()` function. This function returns a graph object that can be used to add nodes and edges to the graph.\n",
    "\n",
    "### Adding Nodes and Edges\n",
    "\n",
    "To add a node to a graph, use the `add_node()` function. This function takes a single argument, which is the name of the node. To add an edge to a graph, use the `add_edge()` function. This function takes two arguments, which are the names of the nodes that are connected by the edge.\n",
    "\n",
    "### Traversing Graphs\n",
    "\n",
    "To traverse a graph, use the `nodes()` function. This function returns a list of all the nodes in the graph. To traverse a graph, use the `edges()` function. This function returns a list of all the edges in the graph.\n",
    "\n",
    "### Computing Properties of Graphs\n",
    "\n",
    "To compute the shortest path between two nodes in a graph, use the `shortest_path()` function. This function takes two arguments, which are the names of the nodes. It returns a list of the nodes that are on the shortest path between the two nodes."
   ]
  },
  {
   "cell_type": "markdown",
   "metadata": {},
   "source": []
  }
 ],
 "metadata": {
  "language_info": {
   "name": "python"
  },
  "orig_nbformat": 4
 },
 "nbformat": 4,
 "nbformat_minor": 2
}
