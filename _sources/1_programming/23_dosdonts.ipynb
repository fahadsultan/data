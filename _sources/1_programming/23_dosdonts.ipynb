{
 "cells": [
  {
   "attachments": {},
   "cell_type": "markdown",
   "metadata": {},
   "source": [
    "# Dos and Donts of Visualization"
   ]
  },
  {
   "attachments": {},
   "cell_type": "markdown",
   "metadata": {},
   "source": [
    "Distinguishing good vs. bad visualizations requires a design aesthetic, and a vocabulary to talk about data representations. \n",
    "\n",
    "Here, we will discuss some recommendations for creating effective visualizations, and some common pitfalls to avoid."
   ]
  },
  {
   "attachments": {},
   "cell_type": "markdown",
   "metadata": {},
   "source": [
    "## Dos ✅\n",
    "\n",
    "The following recommendations are Edward Tufte’s Visualization Aesthetic\n",
    "\n",
    "### Maximize data ink-ratio\n",
    "\n",
    "The data ink ratio is the proportion of the plotting area dedicated to displaying the data. It is defined as:\n",
    "\n",
    "$\\text{Data-Ink Ratio} = \\frac{\\text{Data Ink}}{\\text{Total ink used in graph}}$\n",
    "\n",
    "The goal is to maximize the data ink ratio. In other words, we want to maximize the proportion of the plotting area dedicated to displaying the data and minimize the proportion dedicated to non-data ink.\n",
    "\n",
    "<center><img width=\"80%\" src=\"https://i.ytimg.com/vi/JIMUzJzqaA8/maxresdefault.jpg\"></center>\n",
    "\n",
    "In the example above, note that both panels show the same data. However, the panel on the right has a higher data ink ratio because it removes the background, the grid lines, and the border around the plotting area.\n",
    "\n",
    "<center><img width=\"70%\" src=\"https://community.tableau.com/servlet/servlet.FileDownload?file=00P4T00000460IzUAI\"></center>\n",
    "<br/>\n",
    "Similar to the first example, the data shown in both panels of the figure above is the same. However, the panel on the left has a low data ink ratio because it includes needless icons, grid lines and fancy fonts. The panel on the right cleans up the visualization by minimizing all the non-data ink.\n",
    "\n",
    "### Use 1:1 Aspect Ratio\n",
    "\n",
    "The aspect ratio of the visualization should be 1:1. In other words, the width of the visualization should be equal to the height of the visualization. This ensures that the data is not distorted.\n",
    "\n",
    "This is particularly true for line graphs. If the aspect ratio is not 1:1, then the slope of the line will be distorted. The steepness of apparent _trends_ in a line plot is a function of aspect ratio. Aim for 45° lines or Golden ratio ($\\approx 1.618$) as most interpretable.\n",
    "\n",
    "<center>\n",
    "<img width=\"70%\" src=\"https://raw.githubusercontent.com/fahadsultan/datascience_ml/main/assets/aspect1.png\">\n",
    "</center>\n",
    "\n",
    "<!-- <img src=\"https://miro.medium.com/v2/resize:fit:11998/1*7pfffHqyf4ZnZ91cDMGzrQ.jpeg\"> -->\n",
    "\n",
    "### Bar graphs start at 0\n",
    "\n",
    "Bar graphs should always start at zero. If the bar graph does not start at zero, then the differences between the bars will be distorted.\n",
    "\n",
    "\n",
    "<center>\n",
    "<img width=\"70%\" src=\"https://raw.githubusercontent.com/fahadsultan/datascience_ml/main/assets/bars0.jpeg\">\n",
    "</center>\n",
    "\n",
    "### Use continuous scales\n",
    "\n",
    "The scale of the axes should be continuous. In other words, the scale should be linear or logarithmic. Do not use a scale that is discontinuous or non-linear.\n",
    "\n",
    "<center>\n",
    "<img width=\"70%\" src=\"https://raw.githubusercontent.com/fahadsultan/datascience_ml/main/assets/ranges2.png\">\n",
    "</center>\n",
    "\n",
    "### Use the right colors\n",
    "\n",
    "If the data is categorical, then use qualitative colormaps. If your data ranges from negative to positive values use divergent colormaps. If your data ranges from low to high values, then use sequential colormaps.\n",
    "\n",
    "<center><img width=\"50%\" src=\"https://matplotlib.org/stable/_images/sphx_glr_colormap_reference_002_2_00x.png\"></center>\n",
    "<center><img width=\"50%\" src=\"https://matplotlib.org/stable/_images/sphx_glr_colormap_reference_006_2_00x.png\"></center>\n",
    "<center><img width=\"50%\" src=\"https://matplotlib.org/stable/_images/sphx_glr_colormap_reference_004_2_00x.png\"></center>\n",
    "\n",
    "### Order your numerical axes\n",
    "\n",
    "The numerical axes should be ordered. For example, if the x-axis represents time, then the x-axis should be ordered from earliest to latest. If the x-axis represents age, then the x-axis should be ordered from youngest to oldest.\n",
    "\n",
    "Othwerwise, the data will be difficult to interpret as the viewer will not know which data point corresponds to which value on the x-axis. Example of an unordered x-axis:\n",
    "\n",
    "<center><img width=\"60%\" src=\"https://i.imgur.com/0qVlR6P.png\"></center>\n",
    "\n",
    "\n",
    "\n"
   ]
  },
  {
   "attachments": {},
   "cell_type": "markdown",
   "metadata": {},
   "source": [
    "## Donts ❌\n",
    "\n",
    "### Forget to label\n",
    "\n",
    "All visualizations should have at minimum contain the following: \n",
    "\n",
    "1. A clear and descriptive **Title**. \n",
    "2. All **axes** should be labeled using **name of the variable** and the **units of measurement**. \n",
    "3. The **axes** should also be labeled with the **range of values** shown.\n",
    "4. Legend, if applicable.\n",
    "\n",
    "Don't be like this guy:\n",
    "<center>\n",
    "<img width=\"70%\" src=\"https://raw.githubusercontent.com/fahadsultan/datascience_ml/main/assets/labels1.png\">\n",
    "</center>\n",
    "\n",
    "<br/>\n",
    "\n",
    "Note that the figure above is missing axis labels. No, _\"wave1\"_, _\"wave2\"_, _\"wave3\"_ and _\"wave4\"_ are not proper  labels for the x-axis. _\"Are we stuck?\"_ is also not a very informative title.\n"
   ]
  },
  {
   "attachments": {},
   "cell_type": "markdown",
   "metadata": {},
   "source": [
    "\n",
    "### Scale Distortion\n",
    "\n",
    "The scale of the effect in the graphic should match the scale of the effect in the data. In other words, the difference in size of the graphics should be proportional to the difference in values in the data.\n",
    "\n",
    "$ \\text{Scale Distortion} \\rightarrow \\text{size of effect in graphic} \\neq \\text{size of effect in data}$\n",
    "\n",
    "<center>\n",
    "<img width=\"70%\" src=\"https://raw.githubusercontent.com/fahadsultan/datascience_ml/main/assets/scale0.png\">\n",
    "</center>\n",
    "\n",
    "<!-- <center>\n",
    "<img width=\"70%\" src=\"https://raw.githubusercontent.com/fahadsultan/datascience_ml/main/assets/scale1.png\">\n",
    "</center> -->\n"
   ]
  },
  {
   "attachments": {},
   "cell_type": "markdown",
   "metadata": {},
   "source": [
    "\n",
    "### Use uneven ranges\n",
    "\n",
    "If ranges are not equal, then you can essentially tell any story with the data you want. Catching this is difficult, but it is a common trick deliberately used to mislead the viewer.\n",
    "\n",
    "<center>\n",
    "<img width=\"70%\" src=\"https://raw.githubusercontent.com/fahadsultan/datascience_ml/main/assets/ranges1.png\">\n",
    "</center>"
   ]
  },
  {
   "attachments": {},
   "cell_type": "markdown",
   "metadata": {},
   "source": [
    "\n",
    "### Use line graphs where the x-axis is not time\n",
    "\n",
    "Plotting a line graph where the x-axis is not time is confusing. Use a bar graph instead.\n",
    "\n",
    "<center>\n",
    "<img width=\"70%\" src=\"https://raw.githubusercontent.com/fahadsultan/datascience_ml/main/assets/line2.png\">\n",
    "</center>\n",
    "\n",
    "### Use the wrong colors\n",
    "\n",
    "If the data is categorical, then use qualitative colormaps. Do not use sequential colormaps.\n",
    "\n",
    "<center>\n",
    "<img width=\"50%\" src=\"https://raw.githubusercontent.com/fahadsultan/datascience_ml/main/assets/scale3.png\">\n",
    "</center>\n",
    "\n",
    "\n",
    "### Use 3D\n",
    "\n",
    "Please. Just. Don't. "
   ]
  },
  {
   "cell_type": "markdown",
   "metadata": {},
   "source": []
  }
 ],
 "metadata": {
  "kernelspec": {
   "display_name": "base",
   "language": "python",
   "name": "python3"
  },
  "language_info": {
   "codemirror_mode": {
    "name": "ipython",
    "version": 3
   },
   "file_extension": ".py",
   "mimetype": "text/x-python",
   "name": "python",
   "nbconvert_exporter": "python",
   "pygments_lexer": "ipython3",
   "version": "3.9.12"
  },
  "orig_nbformat": 4
 },
 "nbformat": 4,
 "nbformat_minor": 2
}
