{
 "cells": [
  {
   "attachments": {},
   "cell_type": "markdown",
   "metadata": {},
   "source": [
    "# Basic Elements of Computer Programming"
   ]
  },
  {
   "cell_type": "markdown",
   "metadata": {},
   "source": [
    "Computer programming, at its core, is the task of **combining simple ideas to form more complex ideas**. \n",
    "\n",
    "To that end, every programming language supports the following three basic features:\n",
    "\n",
    "* **Primitive elements**, which represent the simplest building blocks that the language provides \n",
    "    * For example: variables, input, output, math operations, if-else and loops.\n",
    "\n",
    "* **Means of combination**, by which compound _elements_ are built from simpler ones\n",
    "    * For example: nested loops using loops, nested lists using lists. \n",
    "\n",
    "* **Means of abstraction**, by which compound _elements_ can be named and manipulated as units \n",
    "    * For example: functions, classes \n",
    "\n",
    "---"
   ]
  },
  {
   "attachments": {},
   "cell_type": "markdown",
   "metadata": {},
   "source": [
    "\n",
    "\n",
    "The most essential _element_ is **Data**: the quantities, characters, or symbols, stored and transmitted as electrical signals, on which operations are performed by a computer. \n",
    "\n",
    "The atomic unit of data is a **value**\n",
    "\n",
    "\n",
    "Python supports the following **atomic data types** representing single values: \n",
    "\n",
    "1. Numeric values: `int`, `float`, `complex`\n",
    "2. Boolean type: `bool`\n",
    "3. String data types: `str`\n",
    "\n",
    "Python supports the following **collection data types** representing a collection of values: \n",
    "\n",
    "1. String data types: `str`\n",
    "2. Sequence types: `list`, `tuple`\n",
    "3. Mapping data type: `dict`\n",
    "4. Set data types: `set`\n",
    "\n",
    "You can check a variable's data type using the built-in function `type`\n",
    "\n",
    "**Data Structures** are abstractions built on top of these data types. \n",
    "\n",
    "Each data structure corresponds to a particular organization of data. \n",
    "\n",
    "This organization imposes constraints and affordances on the retrieval and processing of data. \n",
    "\n",
    "For example, \n",
    "\n",
    "\n",
    "<!-- <img src=\"../assets/arr1.png\"> -->"
   ]
  },
  {
   "attachments": {},
   "cell_type": "markdown",
   "metadata": {},
   "source": [
    "## Strings"
   ]
  },
  {
   "cell_type": "code",
   "execution_count": null,
   "metadata": {},
   "outputs": [],
   "source": [
    "txt = \"RAINBOW\""
   ]
  },
  {
   "cell_type": "markdown",
   "metadata": {},
   "source": [
    "![img1](../assets/str.png)"
   ]
  },
  {
   "attachments": {},
   "cell_type": "markdown",
   "metadata": {},
   "source": [
    "## Lists / Tuples"
   ]
  },
  {
   "cell_type": "code",
   "execution_count": null,
   "metadata": {},
   "outputs": [],
   "source": [
    "rainbow = [\"Red\", \"Orange\", \"Yellow\", \"Green\", \"Blue\", \"Indigo\", \"Violet\"]\n",
    "rainbow = (\"Red\", \"Orange\", \"Yellow\", \"Green\", \"Blue\", \"Indigo\", \"Violet\")\n",
    "\n"
   ]
  },
  {
   "cell_type": "markdown",
   "metadata": {},
   "source": [
    "\n",
    "![img1](../assets/list_tuple.png)"
   ]
  },
  {
   "attachments": {},
   "cell_type": "markdown",
   "metadata": {},
   "source": [
    "## Sets"
   ]
  },
  {
   "cell_type": "code",
   "execution_count": null,
   "metadata": {},
   "outputs": [],
   "source": [
    "rainbow = {\"Red\", \"Orange\", \"Yellow\", \"Green\", \"Blue\", \"Indigo\", \"Violet\"}"
   ]
  },
  {
   "cell_type": "markdown",
   "metadata": {},
   "source": [
    "\n",
    "![img1](../assets/set.png)"
   ]
  },
  {
   "attachments": {},
   "cell_type": "markdown",
   "metadata": {},
   "source": [
    "## Dictionaries"
   ]
  },
  {
   "cell_type": "code",
   "execution_count": null,
   "metadata": {},
   "outputs": [],
   "source": [
    "rainbow = {\"Red\": 12, \"Orange\": 4.0, \"Yellow\":72.0, \"Green\":\"Trees\", \"Blue\":\"Sad\", \"Indigo\":\"56\", \"Violet\":None}"
   ]
  },
  {
   "cell_type": "markdown",
   "metadata": {},
   "source": [
    "\n",
    "![img1](../assets/dict.png)"
   ]
  },
  {
   "cell_type": "markdown",
   "metadata": {},
   "source": []
  },
  {
   "cell_type": "markdown",
   "metadata": {},
   "source": [
    "## Native Data Types and Data Structures in Python"
   ]
  },
  {
   "cell_type": "markdown",
   "metadata": {},
   "source": [
    "\n",
    "Type | Collection | Syntax | Ordered | Indexed | Mutable | Passed By | Duplicates Allowed \n",
    ":------------: | :-------------:|:-------------:|:-------------:|:-------------:| :-------------:| :-------------:|:-------------:\n",
    "`strings` | characters | `\"c1c2c3\"` | &check; |&check; | &cross; | value | &check;\n",
    "`list` | any data type | `[v1, v2.. vn]` | &check; |&check; |  &check; | reference | &check;\n",
    "`tuple` | any data type | `(v1, v2.. vn)` | &check; | &check; |  &cross; | value | &check;\n",
    "`set` | immutable types | `{v1, v2.. vn}` | &cross; | &cross; |  &cross; | value | &cross;\n",
    "`dictionaries` | any data type * | `{k1:v1,k2:v2.. kn:vn}` | &cross; | &check; |  &check; | reference | &cross;\\**\n",
    "\n",
    "\\* _**keys** can only be immutable type; **values** can be any data type_ \\\n",
    "\\** _**keys** can not be duplicate; **values** can be duplicate_"
   ]
  },
  {
   "cell_type": "markdown",
   "metadata": {},
   "source": [
    "<br/>\n",
    "<hr/>\n",
    "<br/>"
   ]
  },
  {
   "cell_type": "markdown",
   "metadata": {},
   "source": [
    "* Four basic operations **(CRUD)**: \n",
    "\n",
    "1. **Create** (aka initialization)\n",
    "2. **Read** (aka get element)\n",
    "3. **Update** (aka append, insert, change, push)\n",
    "4. **Delete** (aka remove, pop)"
   ]
  },
  {
   "cell_type": "markdown",
   "metadata": {},
   "source": [
    "\n",
    "\n",
    "Type | Create | Read | Update | Delete | \n",
    ":---: | :---:|:---:|:---:|:----:| \n",
    "`strings` | `foo = \"c1c2c3\"` | `foo[idx]` |  **N/A**<br/>_`foo.replace(val1, val2)`_ | <span style=\"{color:red}\">**N/A**</span><br/>_`foo.replace(val, \"\")`_\n",
    "`list` | `foo = [v1, v2.. vn]`  | `foo[idx]` | `foo[idx] = val` |`foo.remove(val)` or `foo.pop(idx)`\n",
    "`tuple` | `foo = (v1, v2.. vn)` | `foo[idx]` | **N/A**<br/>_Convert to list_ | **N/A**<br/>_Convert to list_ |  &cross; | value | &check;\n",
    "`set` |  `foo = {v1, v2.. vn}` | **N/A**<br/>_`val in foo`_ | **N/A** | `foo.pop()` or `foo.remove()` | \n",
    "`dictionaries` | `foo = {k1:v1,.. kn:vn}` | `foo[key]` | `foo[key] = val` | `foo.pop(key)` | "
   ]
  },
  {
   "cell_type": "markdown",
   "metadata": {},
   "source": [
    "\n",
    "\n",
    "Type | Create | Read | Update | Delete | \n",
    ":---: | :---:|:---:|:---:|:----:| \n",
    "`strings` | `\"c1c2c3\"` | `foo[idx]` |  **N/A**<br/><br/>_`foo.replace(v1, v2)`_ | **N/A**<br/><br/>_`foo.replace(val, \"\")`_\n",
    "`list` | `[v1,.. vn]`  | `foo[idx]` | `foo[idx] = val` |`foo.remove(val)` or `foo.pop(idx)`\n",
    "`tuple` | `(v1,.. vn)` | `foo[idx]` | **N/A**<br/><br/>_Convert to list_ | **N/A**<br/><br/>_Convert to list_ |  &cross; | value | &check;\n",
    "`set` |  `{v1,.. vn}` | **N/A**<br/><br/>_`val in foo`_ | **N/A** | `foo.pop()` or `foo.remove()` | \n",
    "`dictionaries` | `{k1:v1,.. kn:vn}` | `foo[key]` | `foo[key] = val` | `foo.pop(key)` | "
   ]
  },
  {
   "cell_type": "markdown",
   "metadata": {},
   "source": [
    "\n",
    "\n",
    "Type | Create | Insert | Read | Update | Delete | \n",
    ":---: | :---:|:---:|:---:|:---:|:----:| \n",
    "`strings` | `\"c1c2c3\"` | `foo + \"a\"`| `foo[idx]` |  **N/A** | **N/A**\n",
    "`list` | `[v1,.. vn]`  | `foo.append(val)` | `foo[idx]` | `foo[idx] = val` |`foo.remove(val)`\n",
    "`tuple` | `(v1,.. vn)` | **N/A** | `foo[idx]` | **N/A** | **N/A** |  &cross; | value | &check;\n",
    "`set` |  `{v1,.. vn}` | `foo.add(val)` | **N/A** | **N/A** | `foo.remove(val)` | \n",
    "`dictionaries` | `{k1:v1,.. kn:vn}` | `foo[key] = val` | `foo[key]` | `foo[key] = val` | `foo.pop(key)` | "
   ]
  },
  {
   "cell_type": "markdown",
   "metadata": {},
   "source": [
    "<hr/>"
   ]
  }
 ],
 "metadata": {
  "language_info": {
   "name": "python"
  },
  "orig_nbformat": 4
 },
 "nbformat": 4,
 "nbformat_minor": 2
}
