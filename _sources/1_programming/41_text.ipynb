{
 "cells": [
  {
   "attachments": {},
   "cell_type": "markdown",
   "metadata": {},
   "source": [
    "# Text data"
   ]
  },
  {
   "attachments": {},
   "cell_type": "markdown",
   "metadata": {
    "vscode": {
     "languageId": "plaintext"
    }
   },
   "source": [
    "<!-- ## Bag of Words -->"
   ]
  },
  {
   "attachments": {},
   "cell_type": "markdown",
   "metadata": {},
   "source": [
    "<!-- Bag of Words is a method to represent text data when modeling text with machine learning algorithms. It is a way of extracting features from the text for use in machine learning algorithms.\n",
    "\n",
    "### Bag of Words Process\n",
    "\n",
    "1. Collect Data\n",
    "2. Tokenize Data\n",
    "3. Count Tokens\n",
    "4. Create Vocab\n",
    "5. Create Vectors\n",
    "\n",
    "### Bag of Words Example\n",
    "\n",
    "#### Collect Data\n",
    "\n",
    "```python\n",
    "# define documents\n",
    "docs = ['Well done!',\n",
    "        'Good work',\n",
    "        'Great effort',\n",
    "        'nice work',\n",
    "        'Excellent!']\n",
    "```\n",
    "\n",
    "#### Tokenize Data\n",
    "\n",
    "```python\n",
    "# split into tokens by white space\n",
    "tokens = [d.split() for d in docs]\n",
    "print(tokens)\n",
    "```\n",
    "\n",
    "    [['Well', 'done!'], ['Good', 'work'], ['Great', 'effort'], ['nice', 'work'], ['Excellent!']]\n",
    "\n",
    "#### Count Tokens\n",
    "    \n",
    "    ```python\n",
    "    # count the tokens\n",
    "    from collections import Counter\n",
    "    counts = Counter()\n",
    "    for d in tokens:\n",
    "        counts.update(d)\n",
    "    print(counts)\n",
    "    ```\n",
    "\n",
    "    Counter({'work': 2, 'Well': 1, 'done!': 1, 'Good': 1, 'Great': 1, 'effort': 1, 'nice': 1, 'Excellent!': 1})\n",
    "\n",
    "#### Create Vocab\n",
    "    \n",
    "    ```python\n",
    "    # create a vocabulary of unique words\n",
    "    vocabulary = set()\n",
    "    for d in tokens:\n",
    "        vocabulary.update(d)\n",
    "    print(vocabulary)\n",
    "    ```\n",
    "\n",
    "    {'effort', 'done!', 'Excellent!', 'Good', 'Great', 'work', 'Well', 'nice'} -->"
   ]
  },
  {
   "attachments": {},
   "cell_type": "markdown",
   "metadata": {},
   "source": [
    "<!-- ## TFIDF -->"
   ]
  },
  {
   "cell_type": "markdown",
   "metadata": {},
   "source": []
  }
 ],
 "metadata": {
  "language_info": {
   "name": "python"
  },
  "orig_nbformat": 4
 },
 "nbformat": 4,
 "nbformat_minor": 2
}
