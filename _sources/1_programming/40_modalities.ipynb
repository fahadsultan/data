{
 "cells": [
  {
   "attachments": {},
   "cell_type": "markdown",
   "metadata": {},
   "source": [
    "# Modalities of Data"
   ]
  },
  {
   "attachments": {},
   "cell_type": "markdown",
   "metadata": {},
   "source": [
    "<!-- \n",
    "Modality is a term used to describe the way data is represented. For example, a single image is a 2D array of pixels. A video is a sequence of images. A sound is a 1D array of samples. A text is a sequence of characters.\n",
    "\n",
    "There are too many modalities to list them all. Each modality has its own characteristics and requires different methods to process and analyze. Each data modality has its own area of research and expertise. For example, computer vision is the area of research that deals with images and videos. Speech processing is the area of research that deals with sounds. Natural language processing is the area of research that deals with text.\n",
    "\n",
    "In this section, we will discuss the most common modalities of data and how to work with them in Python.\n",
    "\n",
    "The image below shows a 2D array of pixels. Each pixel is a 3D vector of RGB values. The image is 3 pixels wide and 2 pixels high. The first row of pixels is red, green, and blue. The second row of pixels is black, white, and black.\n",
    "\n",
    "\n",
    "\n",
    "Some common modalities are:\n",
    "\n",
    "\n",
    "\n",
    "There are many different ways to represent data. In this section, we will discuss the most common modalities of data and how to work with them in Python.\n",
    " -->\n"
   ]
  },
  {
   "attachments": {},
   "cell_type": "markdown",
   "metadata": {},
   "source": [
    "<!-- There are too many data modalities to enumerate here. \n",
    "\n",
    "We are going to focus on just tabular data. Mathematically, there would be matrix representations.\n",
    "\n",
    "Here are a few covered: \n",
    "\n",
    "1. **Text**: Natural Language Processing, Computational Linguistics\n",
    "2. **Images**: Computer Vision, Digital Image Processing\n",
    "3. **Sounds**: Digital Signal Processing (DSP)\n",
    "4. **Graphs**: Graph Theory, Network Theory\n",
    "5. **Time Series**: Time Series Analysis\n",
    "6. **Geographic**: Geographic Information Systems (GIS), Spatial Computing. -->"
   ]
  }
 ],
 "metadata": {
  "language_info": {
   "name": "python"
  },
  "orig_nbformat": 4
 },
 "nbformat": 4,
 "nbformat_minor": 2
}
