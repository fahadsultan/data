{
 "cells": [
  {
   "attachments": {},
   "cell_type": "markdown",
   "metadata": {},
   "source": [
    "# Audio"
   ]
  },
  {
   "attachments": {},
   "cell_type": "markdown",
   "metadata": {},
   "source": [
    "In this section, we will learn how to use representations of audio data in machine learning.\n",
    "\n",
    "## Audio data\n",
    "\n",
    "Audio files can be represented in a variety of ways. The most common is the waveform, which is a time series of the amplitude of the sound wave at each time point. The waveform is a one-dimensional array of numbers. The sampling rate is the number of samples per second.\n",
    "\n",
    "| Sampling rate | Quality |\n",
    "|---------------|---------|\n",
    "| 8 kHz         | Telephone call |\n",
    "| 44.1 kHz      | Music CD |\n",
    "| 48 kHz        | DVD |\n",
    "| 96 kHz        | Studio quality |\n",
    "\n",
    "To load an audio file, we can use the `librosa` library. The `librosa.load` function returns the waveform and the sampling rate."
   ]
  },
  {
   "cell_type": "code",
   "execution_count": null,
   "metadata": {},
   "outputs": [],
   "source": [
    "import librosa\n",
    "waveform, sampling_rate = librosa.load('audio.wav')"
   ]
  },
  {
   "attachments": {},
   "cell_type": "markdown",
   "metadata": {},
   "source": [
    "A dataset of audio files is available at https://www.kaggle.com/c/tensorflow-speech-recognition-challenge/data.\n",
    "\n",
    "## Spectrogram\n",
    "\n",
    "The spectrogram is a visual representation of the spectrum of frequencies of a signal as it varies with time. It is a two-dimensional array of numbers. The x-axis represents time, the y-axis represents frequency, and the color represents the amplitude of the frequency at that time.\n",
    "\n",
    "The spectrogram can be computed using the `librosa.stft` function. The `librosa.amplitude_to_db` function converts the amplitude to decibels.\n",
    "\n",
    "## Mel spectrogram\n",
    "\n",
    "The mel spectrogram is a spectrogram where the frequencies are converted to the mel scale. The mel scale is a scale of pitches judged by listeners to be equal in distance from one another. The mel spectrogram is a two-dimensional array of numbers. The x-axis represents time, the y-axis represents mel frequency, and the color represents the amplitude of the frequency at that time.\n",
    "\n",
    "The mel spectrogram can be computed using the `librosa.feature.melspectrogram` function.\n",
    "\n",
    "## MFCC\n",
    "\n",
    "The mel-frequency cepstrum (MFC) is a representation of the short-term power spectrum of a sound, based on a linear cosine transform of a log power spectrum on a nonlinear mel scale of frequency. The MFCC is a one-dimensional array of numbers.\n",
    "\n",
    "The MFCC can be computed using the `librosa.feature.mfcc` function.\n",
    "\n",
    "## Chromagram\n",
    "\n",
    "The chromagram is a representation of the short-term power spectrum of a sound, based on a linear cosine transform of a log power spectrum on a nonlinear mel scale of frequency. The chromagram is a two-dimensional array of numbers. The x-axis represents time, the y-axis represents pitch class, and the color represents the amplitude of the pitch class at that time.\n",
    "\n",
    "The chromagram can be computed using the `librosa.feature.chroma_stft` function.\n",
    "\n",
    "## Chroma vector\n",
    "\n",
    "The chroma vector is a representation of the short-term power spectrum of a sound, based on a linear cosine transform of a log power spectrum on a nonlinear mel scale of frequency. The chroma vector is a one-dimensional array of numbers.\n",
    "\n",
    "The chroma vector can be computed using the `librosa.feature.chroma_stft` function.\n",
    "\n",
    "## Chroma deviation\n",
    "\n",
    "The chroma deviation is a representation of the short-term power spectrum of a sound, based on a linear cosine transform of a log power spectrum on a nonlinear mel scale of frequency. The chroma deviation is a one-dimensional array of numbers.\n",
    "\n",
    "The chroma deviation can be computed using the `librosa.feature.chroma_stft` function.\n",
    "\n",
    "## Chroma distance\n",
    "\n",
    "The chroma distance is a representation of the short-term power spectrum of a sound, based on a linear cosine transform of a log power spectrum on a nonlinear mel scale of frequency. The chroma distance is a one-dimensional array of numbers.\n",
    "\n",
    "The chroma distance can be computed using the `librosa.feature.chroma_stft` function."
   ]
  },
  {
   "attachments": {},
   "cell_type": "markdown",
   "metadata": {},
   "source": [
    "import librosa\n",
    "\n",
    "waveform, sampling_rate = librosa.load('data/train/audio/bed/00176480_nohash_0.wav')\n",
    "\n",
    "waveform\n"
   ]
  }
 ],
 "metadata": {
  "kernelspec": {
   "display_name": "base",
   "language": "python",
   "name": "python3"
  },
  "language_info": {
   "name": "python",
   "version": "3.9.12"
  },
  "orig_nbformat": 4
 },
 "nbformat": 4,
 "nbformat_minor": 2
}
