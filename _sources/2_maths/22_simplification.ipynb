{
 "cells": [
  {
   "attachments": {},
   "cell_type": "markdown",
   "metadata": {},
   "source": [
    "# Simplification"
   ]
  },
  {
   "attachments": {},
   "cell_type": "markdown",
   "metadata": {},
   "source": [
    "Logarithms are a useful tool for simplifying expressions. They are especially useful when dealing with large numbers. For example, consider the following expression:\n",
    "\n",
    "$$\\log_{10} 10000000000$$\n",
    "\n",
    "This is a very large number, but we can simplify it using logarithms. We know that $10^{10} = 10000000000$, so we can rewrite the expression as:\n",
    "\n",
    "$$\\log_{10} 10000000000 = \\log_{10} 10^{10} = 10$$\n",
    "\n",
    "This is a much simpler expression, and it is much easier to work with. We can also use logarithms to simplify expressions with negative exponents. For example, consider the following expression:\n",
    "\n",
    "$$\\log_{10} \\frac{1}{10000000000}$$\n",
    "\n",
    "We can rewrite this expression as:\n",
    "\n",
    "$$\\log_{10} \\frac{1}{10000000000} = \\log_{10} 10^{-10} = -10$$\n",
    "\n",
    "This is a much simpler expression, and it is much easier to work with. We can also use logarithms to simplify expressions with **fractional exponents**. For example, consider the following expression:\n",
    "\n",
    "$\\log_{10} \\sqrt{10000000000}$\n",
    "\n",
    "We can rewrite this expression as:\n",
    "\n",
    "$$\\log_{10} \\sqrt{10000000000} = \\log_{10} 10^{\\frac{1}{2}} = \\frac{1}{2}$$\n",
    "\n",
    "This is a much simpler expression, and it is much easier to work with. We can also use logarithms to simplify expressions with **negative exponents**. For example, consider the following expression:\n",
    "\n",
    "$$\\log_{10} \\frac{1}{10000000000}$$\n",
    "\n",
    "We can rewrite this expression as:\n",
    "\n",
    "$$\\log_{10} \\frac{1}{10000000000} = \\log_{10} 10^{-10} = -10$$\n",
    "\n",
    "This is a much simpler expression, and it is much easier to work with. "
   ]
  },
  {
   "attachments": {},
   "cell_type": "markdown",
   "metadata": {},
   "source": [
    "Logarithms are also useful for simplifying our probability formulas. For example, consider the Bayes' theorem formula:\n",
    "\n",
    "$$P(A|B) = \\frac{P(B|A)P(A)}{P(B)}$$\n",
    "\n",
    "If we take the logarithm of both sides of this equation, we get:\n",
    "\n",
    "$$\\log_{10} P(A|B) = \\log_{10} \\frac{P(B|A)P(A)}{P(B)}$$\n",
    "\n",
    "We can simplify this expression by using the logarithm rules:\n",
    "\n",
    "$$\\log_{10} P(A|B) = \\log_{10} P(B|A) + \\log_{10} P(A) - \\log_{10} P(B)$$\n",
    "\n",
    "This is a much simpler expression, and it is much easier to work with.\n",
    "\n",
    "Similarly, we can simplify the formula for the **joint probability** of two events:\n",
    "\n",
    "$$P(A \\cap B) = P(A)P(B|A)$$\n",
    "\n",
    "If we take the logarithm of both sides of this equation, we get:\n",
    "\n",
    "$$\\log_{10} P(A \\cap B) = \\log_{10} P(A) + \\log_{10} P(B|A)$$\n",
    "\n",
    "\n",
    "\n"
   ]
  },
  {
   "attachments": {},
   "cell_type": "markdown",
   "metadata": {},
   "source": []
  }
 ],
 "metadata": {
  "kernelspec": {
   "display_name": "base",
   "language": "python",
   "name": "python3"
  },
  "language_info": {
   "codemirror_mode": {
    "name": "ipython",
    "version": 3
   },
   "file_extension": ".py",
   "mimetype": "text/x-python",
   "name": "python",
   "nbconvert_exporter": "python",
   "pygments_lexer": "ipython3",
   "version": "3.9.12"
  },
  "orig_nbformat": 4
 },
 "nbformat": 4,
 "nbformat_minor": 2
}
