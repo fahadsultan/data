{
 "cells": [
  {
   "attachments": {},
   "cell_type": "markdown",
   "metadata": {},
   "source": [
    "# Prob, Stats and Logs"
   ]
  },
  {
   "attachments": {},
   "cell_type": "markdown",
   "metadata": {},
   "source": [
    "Probability and statistics are related areas of mathematics which concern themselves with analyzing **the relative frequency of events**. Both subjects are important, relevant, and useful. But they are different, and understanding the distinction is crucial in properly interpreting the relevance of mathematical evidence. \n",
    "\n",
    "Still, there are fundamental differences in the way they see the world:\n",
    "\n",
    "\n",
    "| | Probability  | Statistics    |\n",
    "| :----------: | :----------: | :-----------: |\n",
    "| **Goal:**    | _Predicting_ the _Future_    | _Summarizing_ the _Past_          |\n",
    "| **Branch of Mathematics:**    | Theoretical (pure math)    | Application-driven (applied math) |\n",
    "| **Reasoning / Inference**:    | Deduction (Rules -> Data)   | Induction (Data -> Rules) |\n",
    "| **Worldview:**    | Ideal    | Real / Messy          |\n",
    "| **Level of Confidence:**    | Certainty    | Estimation          |\n",
    "| **Researchers / Practitioners**    | Happy go-lucky          | Tormented          |\n",
    "\n",
    "<br/>\n",
    "\n",
    "In summary, **probability theory** enables us to find the **consequences of a given ideal world**, while **statistical theory** enables us to **measure the extent to which our world is ideal**. This constant tension between theory and practice is why statisticians prove to be a tortured group of individuals compared with the happy-go-lucky probabilists.\n",
    "\n",
    "This distinction will perhaps become clearer if we trace the thought process of a mathematician encountering their first gambling game:\n",
    "<!-- \n",
    "<img src=\"https://media1.giphy.com/media/v1.Y2lkPTc5MGI3NjExNm01ZTl4MzBxZmI1bWMza2NvcWUxZXJhcTJpZ3Y3Ymxkbm9ubmM5ayZlcD12MV9pbnRlcm5hbF9naWZfYnlfaWQmY3Q9Zw/26uf2YTgF5upXUTm0/giphy.gif\" align=\"center\"> -->\n",
    "\n",
    "```{figure} https://media1.giphy.com/media/v1.Y2lkPTc5MGI3NjExNm01ZTl4MzBxZmI1bWMza2NvcWUxZXJhcTJpZ3Y3Ymxkbm9ubmM5ayZlcD12MV9pbnRlcm5hbF9naWZfYnlfaWQmY3Q9Zw/26uf2YTgF5upXUTm0/giphy.gif\n",
    "---\n",
    "width: 35%\n",
    "name: probstats\n",
    "---\n",
    "Modern probability theory first emerged from gambling tables of France in mid 1600s. Blaise Pascal and Pierre de Fermat wondered whether the player or the house had the advantage in a particular betting game. \n",
    "```\n",
    "\n",
    "\n",
    "If a gambler were a probabilist, they would see the dice and think _“Six-sided dice? Each side of the dice is presumably equally likely to land face up. Now assuming that each face comes up with probability 1/6, I can figure out what my chances are of winning.”_\n",
    "\n",
    "If instead a gambler were statistician, they would see the dice and think _“How do I know that they are not loaded?\"_ They’ll watch the game a while, and keep track of how often each number comes up. Then they can decide if my observations are consistent with the assumption of equal-probability faces. Once they have the probabilities figured out, they can call a probabilist to tell them how to bet.\n",
    "\n",
    "<hr/>\n",
    "\n",
    "In this course, we will use Statistics to go from Data to Probability-based models, as shown in the figure below:\n",
    "\n",
    "<img align=\"center\" width=\"80%\" src=\"../assets/probstats.png\">\n",
    "\n",
    "Having _learned_ or _estimated_ the model, we can then use Probability to make predictions about the future. "
   ]
  }
 ],
 "metadata": {
  "language_info": {
   "name": "python"
  },
  "orig_nbformat": 4
 },
 "nbformat": 4,
 "nbformat_minor": 2
}
