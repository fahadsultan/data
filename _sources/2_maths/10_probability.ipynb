{
 "cells": [
  {
   "attachments": {},
   "cell_type": "markdown",
   "metadata": {},
   "source": [
    "# Probability, Stats and Logarithms"
   ]
  },
  {
   "attachments": {},
   "cell_type": "markdown",
   "metadata": {},
   "source": [
    "```{tableofcontents}\n",
    "```"
   ]
  },
  {
   "attachments": {},
   "cell_type": "markdown",
   "metadata": {},
   "source": [
    "<!-- \n",
    "Distributions often take on one of the following shapes:\n",
    "\n",
    "- Bell\n",
    "- Long tail\n",
    "- Skewed\n",
    "- Twin peaked\n",
    "- Flat\n",
    "\n",
    "``` {image} https://leanscape.io/wp-content/uploads/2022/10/Different-Type-of-Data-Distributions-1024x577.jpg\n",
    ":alt: Different Type of Data Distributions\n",
    ":width: 100%\n",
    ":align: center\n",
    "```\n",
    "\n",
    "The different shapes can help you to select the best plots and also suggest that some transforms of your data may be useful prior to modeling. -->"
   ]
  }
 ],
 "metadata": {
  "language_info": {
   "name": "python"
  },
  "orig_nbformat": 4
 },
 "nbformat": 4,
 "nbformat_minor": 2
}
