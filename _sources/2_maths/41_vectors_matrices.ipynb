{
 "cells": [
  {
   "attachments": {},
   "cell_type": "markdown",
   "metadata": {},
   "source": [
    "# Scalars, Vectors and Matrices"
   ]
  },
  {
   "attachments": {},
   "cell_type": "markdown",
   "metadata": {},
   "source": [
    "Scalars are single numbers and are an example of a 0th-order tensor. Vectors are 1st-order tensors and are arrays of numbers. Matrices are 2nd-order tensors and are arrays of vectors. Tensors are a generalization of vectors and matrices and can be of an arbitrary number of dimensions.\n",
    "\n",
    "Each row of a matrix is a vector. Each column of a matrix is a vector. The number of rows is the length of the vector. The number of columns is the dimension of the vector.\n",
    "\n",
    "A vector is a list of numbers. A vector can be represented as a column vector or a row vector. A column vector is a vector with a single column. A row vector is a vector with a single row.\n",
    "\n",
    "Here, we model a pandas Dataframe as a matrix: collection of row vectors. Columns of the dataframe, albeit a vector, will be considered as random variables. Each row of the dataframe will be considered as a sample. The number of rows is the number of samples. The number of columns is the number of random variables."
   ]
  }
 ],
 "metadata": {
  "language_info": {
   "name": "python"
  },
  "orig_nbformat": 4
 },
 "nbformat": 4,
 "nbformat_minor": 2
}
