{
 "cells": [
  {
   "attachments": {},
   "cell_type": "markdown",
   "metadata": {},
   "source": [
    "# Applications\n",
    "\n",
    "## Dimensionality Reduction\n",
    "\n",
    "Dimensionality reduction is a technique that is used to reduce the number of features in a dataset. \n",
    "\n",
    "Reducing the number of features of a dataset is desirable for the following reasons:\n",
    "\n",
    "1. It reduces the time and storage space required and subsequently reduces the computation time.\n",
    "\n",
    "2. It removes redundant features and the overcome the [curse of dimensionality]().\n",
    "\n",
    "```{admonition} Curse of dimensionality ☠️\n",
    ":class: note\n",
    "The curse of dimensionality refers to the fact that **for each additional feature, the number of training examples required to train the machine learning algorithm grows exponentially**. This is because the volume of the space increases so fast that the available data become sparse. \n",
    "```\n",
    "\n",
    "3. It allows us to visualize high-dimensional data in a 2-dimensional or 3-dimensional space.\n",
    "\n"
   ]
  },
  {
   "cell_type": "code",
   "execution_count": 3,
   "metadata": {},
   "outputs": [],
   "source": [
    "import pandas as pd\n",
    "data = pd.read_csv('https://raw.githubusercontent.com/fahadsultan/datascience_ml/main/data/chat_dataset.csv')\n",
    "\n",
    "# creating bow representation\n",
    "vocab = (' '.join(data['message'].values)).lower().split()\n",
    "bow = pd.DataFrame(columns=vocab)\n",
    "for word in vocab: \n",
    "    bow[word] = data['message'].apply(lambda msg: msg.count(word))\n",
    "\n",
    "from sklearn.decomposition import PCA\n",
    "pca = PCA(n_components = 2)\n",
    "\n",
    "bow_reduced = pca.fit_transform(bow)"
   ]
  },
  {
   "cell_type": "code",
   "execution_count": 5,
   "metadata": {},
   "outputs": [
    {
     "data": {
      "text/html": [
       "<div>\n",
       "<style scoped>\n",
       "    .dataframe tbody tr th:only-of-type {\n",
       "        vertical-align: middle;\n",
       "    }\n",
       "\n",
       "    .dataframe tbody tr th {\n",
       "        vertical-align: top;\n",
       "    }\n",
       "\n",
       "    .dataframe thead th {\n",
       "        text-align: right;\n",
       "    }\n",
       "</style>\n",
       "<table border=\"1\" class=\"dataframe\">\n",
       "  <thead>\n",
       "    <tr style=\"text-align: right;\">\n",
       "      <th></th>\n",
       "      <th>message</th>\n",
       "      <th>sentiment</th>\n",
       "    </tr>\n",
       "  </thead>\n",
       "  <tbody>\n",
       "    <tr>\n",
       "      <th>0</th>\n",
       "      <td>I really enjoyed the movie</td>\n",
       "      <td>positive</td>\n",
       "    </tr>\n",
       "    <tr>\n",
       "      <th>1</th>\n",
       "      <td>The food was terrible</td>\n",
       "      <td>negative</td>\n",
       "    </tr>\n",
       "    <tr>\n",
       "      <th>2</th>\n",
       "      <td>I'm not sure how I feel about this</td>\n",
       "      <td>neutral</td>\n",
       "    </tr>\n",
       "    <tr>\n",
       "      <th>3</th>\n",
       "      <td>The service was excellent</td>\n",
       "      <td>positive</td>\n",
       "    </tr>\n",
       "    <tr>\n",
       "      <th>4</th>\n",
       "      <td>I had a bad experience</td>\n",
       "      <td>negative</td>\n",
       "    </tr>\n",
       "  </tbody>\n",
       "</table>\n",
       "</div>"
      ],
      "text/plain": [
       "                              message sentiment\n",
       "0          I really enjoyed the movie  positive\n",
       "1               The food was terrible  negative\n",
       "2  I'm not sure how I feel about this   neutral\n",
       "3           The service was excellent  positive\n",
       "4              I had a bad experience  negative"
      ]
     },
     "execution_count": 5,
     "metadata": {},
     "output_type": "execute_result"
    }
   ],
   "source": [
    "data.head()"
   ]
  },
  {
   "cell_type": "code",
   "execution_count": 22,
   "metadata": {},
   "outputs": [
    {
     "data": {
      "image/png": "[encoded data removed]",
      "text/plain": [
       "<Figure size 432x288 with 1 Axes>"
      ]
     },
     "metadata": {
      "needs_background": "light"
     },
     "output_type": "display_data"
    }
   ],
   "source": [
    "from matplotlib import pyplot as plt \n",
    "\n",
    "labels = data['sentiment'].replace({'neutral':0, 'positive':1, 'negative':-1})\n",
    "\n",
    "pos = bow_reduced[labels==1]\n",
    "neg = bow_reduced[labels==-1]\n",
    "neu = bow_reduced[labels==0]\n",
    "\n",
    "plt.scatter(neu[:,0], neu[:,1], c='y', label='neutral');\n",
    "plt.scatter(pos[:,0], pos[:,1], c='b', label='positive');\n",
    "plt.scatter(neg[:,0], neg[:,1], c='r', label='negative');\n",
    "\n",
    "plt.legend();\n",
    "\n",
    "plt.title('PCA on BOW: Each point is a message');\n",
    "plt.xlabel('PC1');\n",
    "plt.ylabel('PC2');"
   ]
  },
  {
   "attachments": {},
   "cell_type": "markdown",
   "metadata": {},
   "source": [
    "It is important to point out that **dimensionality reduction is not the same as feature selection**. The main difference is that in dimensionality reduction, we **transform** the data in a lower dimensional space while in feature selection we **select** a subset of the original features. In other words, PC1 and PC2 are linear combinations of the original features, while the features selected in feature selection are the original features."
   ]
  },
  {
   "attachments": {},
   "cell_type": "markdown",
   "metadata": {},
   "source": [
    "## K-Nearest Neighbors (KNN)\n",
    "\n",
    "K-Nearest Neighbors (KNN) is a supervised machine learning algorithm that can be used for both classification and regression problems. KNN is a non-parametric, lazy learning algorithm that classifies a data point based on the $k$ data points that are nearest to it. KNN does not make any assumptions on the underlying data distribution. \n",
    "\n",
    "Note that nearest points (observations) can be found by multiplying the matrix representation of observations by its transpose. The resulting matrix contains the distances between all pairs of observations. \n",
    "\n",
    "Once you have the similarity matrix, you can find the $k$ nearest neighbors of a particular observation by sorting the row of the similarity matrix corresponding to that observation.\n",
    "\n",
    "Your prediction can then be mean or median of the target values of the $k$ nearest neighbors.\n"
   ]
  },
  {
   "attachments": {},
   "cell_type": "markdown",
   "metadata": {},
   "source": [
    "## Recommender Systems\n",
    "\n",
    "Recommender systems are a type of information filtering system that are used to predict the rating or preference that a user would give to an item. They are widely used in e-commerce, entertainment, and social media platforms. Recommender systems are of two types:\n",
    "\n",
    "Nearest Neighbors (KNN) are often used to build recommender systems. Recommender systems are used to recommend items to users based on their past preferences. \n",
    "\n",
    "<center><img width=\"80%\" src=\"https://miro.medium.com/v2/resize:fit:1064/1*aSq9viZGEYiWwL9uJ3Recw.png\"></center>\n",
    "\n",
    "### Collaborative Filtering\n",
    "\n",
    "Collaborative filtering is a technique that is used to filter out items that a user might like on the basis of reactions by similar users. It works by searching a large group of people and finding a smaller set of users with tastes similar to a particular user. It looks at the items they like and combines them to create a ranked list of suggestions.\n",
    "\n",
    "Nearest Neighbors (KNN) are used to find the users that are similar to a particular user. The items that are liked by the similar users are then recommended to the particular user.\n",
    "\n",
    "### Content Based Filtering\n",
    "\n",
    "Content based filtering is a technique that is used to filter out items that a user might like on the basis of the description of the item itself. It works by creating a profile of the user's interests based on the items that the user has liked in the past. It then recommends items that match the user's profile.\n",
    "\n",
    "Nearest Neighbors (KNN) are used to find the items that are similar to the items that a user has liked in the past. The similar items are then recommended to the user.\n",
    "\n",
    "## Social Media Feeds\n",
    "\n",
    "Social media platforms such as Facebook, Twitter, and Instagram use recommender systems to recommend posts to users. The posts that are recommended to a user are based on the posts that the user has liked in the past.\n",
    "\n",
    "<center><img width=\"50%\" src=\"https://miro.medium.com/v2/resize:fit:1400/1*RJwWtfrHtM_mUtJxvkLVOQ.png\"></center>\n",
    "\n",
    "These platforms also use algorithms similar to KNN to sort the posts in a user's feed. The posts that are similar to the posts that a user has liked in the past are shown at the top of the user's feed."
   ]
  }
 ],
 "metadata": {
  "kernelspec": {
   "display_name": "base",
   "language": "python",
   "name": "python3"
  },
  "language_info": {
   "codemirror_mode": {
    "name": "ipython",
    "version": 3
   },
   "file_extension": ".py",
   "mimetype": "text/x-python",
   "name": "python",
   "nbconvert_exporter": "python",
   "pygments_lexer": "ipython3",
   "version": "3.9.12"
  },
  "orig_nbformat": 4
 },
 "nbformat": 4,
 "nbformat_minor": 2
}
