{
 "cells": [
  {
   "attachments": {},
   "cell_type": "markdown",
   "metadata": {},
   "source": [
    "# Linear Algebra and Geometry"
   ]
  },
  {
   "attachments": {},
   "cell_type": "markdown",
   "metadata": {},
   "source": [
    "In Encoding and Representation, we discussed how all data, (regardless of its form, format or modality) needs to be converted into a matrix of numbers. \n",
    "\n",
    "<center>\n",
    "<img width=\"40%\" src=\"https://upload.wikimedia.org/wikipedia/commons/thumb/2/2f/Linear_subspaces_with_shading.svg/1200px-Linear_subspaces_with_shading.svg.png\"> \n",
    "</center>\n",
    "\n",
    "Linear Algebra is the mathematics of such matrices of numbers. It is a fundamental tool in many fields, including data science and machine learning. In this section, we will review some of the basic concepts of linear algebra.\n",
    "\n",
    "<center>\n",
    "\n",
    "<img  width=\"85%\" src=\"../assets/linearalgebra.png\">\n",
    "\n",
    "</center>\n",
    "\n",
    "Before we talk about matrices however, we need to talk about vectors. In order to talk about vectors, in turn, we need to talk about scalars. "
   ]
  }
 ],
 "metadata": {
  "kernelspec": {
   "display_name": "base",
   "language": "python",
   "name": "python3"
  },
  "language_info": {
   "codemirror_mode": {
    "name": "ipython",
    "version": 3
   },
   "file_extension": ".py",
   "mimetype": "text/x-python",
   "name": "python",
   "nbconvert_exporter": "python",
   "pygments_lexer": "ipython3",
   "version": "3.9.12"
  },
  "orig_nbformat": 4
 },
 "nbformat": 4,
 "nbformat_minor": 2
}
